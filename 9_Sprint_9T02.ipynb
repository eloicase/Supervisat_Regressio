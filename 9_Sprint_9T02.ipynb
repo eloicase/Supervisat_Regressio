{
 "cells": [
  {
   "cell_type": "markdown",
   "id": "53fbaa67",
   "metadata": {},
   "source": [
    "## 9_Sprint_9T02\n",
    "### Aprenentatge Supervisat - Regressions\n",
    "#### Eloi Canals"
   ]
  },
  {
   "cell_type": "markdown",
   "id": "7f1926e6",
   "metadata": {},
   "source": [
    "Exercici 1\n",
    "Crea almenys tres models de regressió diferents per intentar predir el millor possible l’endarreriment dels vols (ArrDelay) de DelayedFlights.csv."
   ]
  },
  {
   "cell_type": "markdown",
   "id": "7f8c3ec7",
   "metadata": {},
   "source": [
    "#### Carreguem llibreries i el dataframe a operar"
   ]
  },
  {
   "cell_type": "code",
   "execution_count": 1,
   "id": "aa9b4ec7",
   "metadata": {},
   "outputs": [
    {
     "name": "stderr",
     "output_type": "stream",
     "text": [
      "/Users/ecanals/opt/anaconda3/lib/python3.8/site-packages/numpy/lib/arraysetops.py:580: FutureWarning: elementwise comparison failed; returning scalar instead, but in the future will perform elementwise comparison\n",
      "  mask |= (ar1 == a)\n"
     ]
    }
   ],
   "source": [
    "import pandas as pd\n",
    "import matplotlib.pyplot as plt #, mpld3\n",
    "import numpy as np\n",
    "import seaborn as sns\n",
    "\n",
    "# sklearn\n",
    "from sklearn.model_selection import train_test_split\n",
    "\n",
    "from sklearn.preprocessing import StandardScaler\n",
    "from sklearn.preprocessing import MinMaxScaler\n",
    "from sklearn.preprocessing import RobustScaler\n",
    "from sklearn.decomposition import PCA\n",
    "\n",
    "df = pd.read_csv('DelayedFlights.csv', index_col=0)\n",
    "\n"
   ]
  },
  {
   "cell_type": "code",
   "execution_count": 2,
   "id": "5457f472",
   "metadata": {
    "scrolled": true
   },
   "outputs": [
    {
     "data": {
      "text/html": [
       "<div>\n",
       "<style scoped>\n",
       "    .dataframe tbody tr th:only-of-type {\n",
       "        vertical-align: middle;\n",
       "    }\n",
       "\n",
       "    .dataframe tbody tr th {\n",
       "        vertical-align: top;\n",
       "    }\n",
       "\n",
       "    .dataframe thead th {\n",
       "        text-align: right;\n",
       "    }\n",
       "</style>\n",
       "<table border=\"1\" class=\"dataframe\">\n",
       "  <thead>\n",
       "    <tr style=\"text-align: right;\">\n",
       "      <th></th>\n",
       "      <th>Year</th>\n",
       "      <th>Month</th>\n",
       "      <th>DayofMonth</th>\n",
       "      <th>DayOfWeek</th>\n",
       "      <th>DepTime</th>\n",
       "      <th>CRSDepTime</th>\n",
       "      <th>ArrTime</th>\n",
       "      <th>CRSArrTime</th>\n",
       "      <th>UniqueCarrier</th>\n",
       "      <th>FlightNum</th>\n",
       "      <th>...</th>\n",
       "      <th>TaxiIn</th>\n",
       "      <th>TaxiOut</th>\n",
       "      <th>Cancelled</th>\n",
       "      <th>CancellationCode</th>\n",
       "      <th>Diverted</th>\n",
       "      <th>CarrierDelay</th>\n",
       "      <th>WeatherDelay</th>\n",
       "      <th>NASDelay</th>\n",
       "      <th>SecurityDelay</th>\n",
       "      <th>LateAircraftDelay</th>\n",
       "    </tr>\n",
       "  </thead>\n",
       "  <tbody>\n",
       "    <tr>\n",
       "      <th>0</th>\n",
       "      <td>2008</td>\n",
       "      <td>1</td>\n",
       "      <td>3</td>\n",
       "      <td>4</td>\n",
       "      <td>2003.0</td>\n",
       "      <td>1955</td>\n",
       "      <td>2211.0</td>\n",
       "      <td>2225</td>\n",
       "      <td>WN</td>\n",
       "      <td>335</td>\n",
       "      <td>...</td>\n",
       "      <td>4.0</td>\n",
       "      <td>8.0</td>\n",
       "      <td>0</td>\n",
       "      <td>N</td>\n",
       "      <td>0</td>\n",
       "      <td>NaN</td>\n",
       "      <td>NaN</td>\n",
       "      <td>NaN</td>\n",
       "      <td>NaN</td>\n",
       "      <td>NaN</td>\n",
       "    </tr>\n",
       "    <tr>\n",
       "      <th>1</th>\n",
       "      <td>2008</td>\n",
       "      <td>1</td>\n",
       "      <td>3</td>\n",
       "      <td>4</td>\n",
       "      <td>754.0</td>\n",
       "      <td>735</td>\n",
       "      <td>1002.0</td>\n",
       "      <td>1000</td>\n",
       "      <td>WN</td>\n",
       "      <td>3231</td>\n",
       "      <td>...</td>\n",
       "      <td>5.0</td>\n",
       "      <td>10.0</td>\n",
       "      <td>0</td>\n",
       "      <td>N</td>\n",
       "      <td>0</td>\n",
       "      <td>NaN</td>\n",
       "      <td>NaN</td>\n",
       "      <td>NaN</td>\n",
       "      <td>NaN</td>\n",
       "      <td>NaN</td>\n",
       "    </tr>\n",
       "    <tr>\n",
       "      <th>2</th>\n",
       "      <td>2008</td>\n",
       "      <td>1</td>\n",
       "      <td>3</td>\n",
       "      <td>4</td>\n",
       "      <td>628.0</td>\n",
       "      <td>620</td>\n",
       "      <td>804.0</td>\n",
       "      <td>750</td>\n",
       "      <td>WN</td>\n",
       "      <td>448</td>\n",
       "      <td>...</td>\n",
       "      <td>3.0</td>\n",
       "      <td>17.0</td>\n",
       "      <td>0</td>\n",
       "      <td>N</td>\n",
       "      <td>0</td>\n",
       "      <td>NaN</td>\n",
       "      <td>NaN</td>\n",
       "      <td>NaN</td>\n",
       "      <td>NaN</td>\n",
       "      <td>NaN</td>\n",
       "    </tr>\n",
       "    <tr>\n",
       "      <th>4</th>\n",
       "      <td>2008</td>\n",
       "      <td>1</td>\n",
       "      <td>3</td>\n",
       "      <td>4</td>\n",
       "      <td>1829.0</td>\n",
       "      <td>1755</td>\n",
       "      <td>1959.0</td>\n",
       "      <td>1925</td>\n",
       "      <td>WN</td>\n",
       "      <td>3920</td>\n",
       "      <td>...</td>\n",
       "      <td>3.0</td>\n",
       "      <td>10.0</td>\n",
       "      <td>0</td>\n",
       "      <td>N</td>\n",
       "      <td>0</td>\n",
       "      <td>2.0</td>\n",
       "      <td>0.0</td>\n",
       "      <td>0.0</td>\n",
       "      <td>0.0</td>\n",
       "      <td>32.0</td>\n",
       "    </tr>\n",
       "    <tr>\n",
       "      <th>5</th>\n",
       "      <td>2008</td>\n",
       "      <td>1</td>\n",
       "      <td>3</td>\n",
       "      <td>4</td>\n",
       "      <td>1940.0</td>\n",
       "      <td>1915</td>\n",
       "      <td>2121.0</td>\n",
       "      <td>2110</td>\n",
       "      <td>WN</td>\n",
       "      <td>378</td>\n",
       "      <td>...</td>\n",
       "      <td>4.0</td>\n",
       "      <td>10.0</td>\n",
       "      <td>0</td>\n",
       "      <td>N</td>\n",
       "      <td>0</td>\n",
       "      <td>NaN</td>\n",
       "      <td>NaN</td>\n",
       "      <td>NaN</td>\n",
       "      <td>NaN</td>\n",
       "      <td>NaN</td>\n",
       "    </tr>\n",
       "  </tbody>\n",
       "</table>\n",
       "<p>5 rows × 29 columns</p>\n",
       "</div>"
      ],
      "text/plain": [
       "   Year  Month  DayofMonth  DayOfWeek  DepTime  CRSDepTime  ArrTime  \\\n",
       "0  2008      1           3          4   2003.0        1955   2211.0   \n",
       "1  2008      1           3          4    754.0         735   1002.0   \n",
       "2  2008      1           3          4    628.0         620    804.0   \n",
       "4  2008      1           3          4   1829.0        1755   1959.0   \n",
       "5  2008      1           3          4   1940.0        1915   2121.0   \n",
       "\n",
       "   CRSArrTime UniqueCarrier  FlightNum  ... TaxiIn  TaxiOut  Cancelled  \\\n",
       "0        2225            WN        335  ...    4.0      8.0          0   \n",
       "1        1000            WN       3231  ...    5.0     10.0          0   \n",
       "2         750            WN        448  ...    3.0     17.0          0   \n",
       "4        1925            WN       3920  ...    3.0     10.0          0   \n",
       "5        2110            WN        378  ...    4.0     10.0          0   \n",
       "\n",
       "   CancellationCode  Diverted  CarrierDelay WeatherDelay NASDelay  \\\n",
       "0                 N         0           NaN          NaN      NaN   \n",
       "1                 N         0           NaN          NaN      NaN   \n",
       "2                 N         0           NaN          NaN      NaN   \n",
       "4                 N         0           2.0          0.0      0.0   \n",
       "5                 N         0           NaN          NaN      NaN   \n",
       "\n",
       "   SecurityDelay  LateAircraftDelay  \n",
       "0            NaN                NaN  \n",
       "1            NaN                NaN  \n",
       "2            NaN                NaN  \n",
       "4            0.0               32.0  \n",
       "5            NaN                NaN  \n",
       "\n",
       "[5 rows x 29 columns]"
      ]
     },
     "execution_count": 2,
     "metadata": {},
     "output_type": "execute_result"
    }
   ],
   "source": [
    "df.head()"
   ]
  },
  {
   "cell_type": "code",
   "execution_count": 3,
   "id": "8e167fc7",
   "metadata": {},
   "outputs": [
    {
     "data": {
      "text/plain": [
       "<bound method NDFrame.describe of 0         -14.0\n",
       "1           2.0\n",
       "2          14.0\n",
       "4          34.0\n",
       "5          11.0\n",
       "           ... \n",
       "7009710    25.0\n",
       "7009717    75.0\n",
       "7009718    99.0\n",
       "7009726     9.0\n",
       "7009727    -5.0\n",
       "Name: ArrDelay, Length: 1936758, dtype: float64>"
      ]
     },
     "execution_count": 3,
     "metadata": {},
     "output_type": "execute_result"
    }
   ],
   "source": [
    "df['ArrDelay'].describe"
   ]
  },
  {
   "cell_type": "code",
   "execution_count": 4,
   "id": "c7358c10",
   "metadata": {},
   "outputs": [
    {
     "data": {
      "text/html": [
       "<div>\n",
       "<style scoped>\n",
       "    .dataframe tbody tr th:only-of-type {\n",
       "        vertical-align: middle;\n",
       "    }\n",
       "\n",
       "    .dataframe tbody tr th {\n",
       "        vertical-align: top;\n",
       "    }\n",
       "\n",
       "    .dataframe thead th {\n",
       "        text-align: right;\n",
       "    }\n",
       "</style>\n",
       "<table border=\"1\" class=\"dataframe\">\n",
       "  <thead>\n",
       "    <tr style=\"text-align: right;\">\n",
       "      <th></th>\n",
       "      <th>Year</th>\n",
       "      <th>Month</th>\n",
       "      <th>DayofMonth</th>\n",
       "      <th>DayOfWeek</th>\n",
       "      <th>DepTime</th>\n",
       "      <th>CRSDepTime</th>\n",
       "      <th>ArrTime</th>\n",
       "      <th>CRSArrTime</th>\n",
       "      <th>UniqueCarrier</th>\n",
       "      <th>FlightNum</th>\n",
       "      <th>...</th>\n",
       "      <th>TaxiIn</th>\n",
       "      <th>TaxiOut</th>\n",
       "      <th>Cancelled</th>\n",
       "      <th>CancellationCode</th>\n",
       "      <th>Diverted</th>\n",
       "      <th>CarrierDelay</th>\n",
       "      <th>WeatherDelay</th>\n",
       "      <th>NASDelay</th>\n",
       "      <th>SecurityDelay</th>\n",
       "      <th>LateAircraftDelay</th>\n",
       "    </tr>\n",
       "  </thead>\n",
       "  <tbody>\n",
       "    <tr>\n",
       "      <th>0</th>\n",
       "      <td>0</td>\n",
       "      <td>0</td>\n",
       "      <td>0</td>\n",
       "      <td>0</td>\n",
       "      <td>0</td>\n",
       "      <td>0</td>\n",
       "      <td>7110</td>\n",
       "      <td>0</td>\n",
       "      <td>0</td>\n",
       "      <td>0</td>\n",
       "      <td>...</td>\n",
       "      <td>7110</td>\n",
       "      <td>455</td>\n",
       "      <td>0</td>\n",
       "      <td>0</td>\n",
       "      <td>0</td>\n",
       "      <td>689270</td>\n",
       "      <td>689270</td>\n",
       "      <td>689270</td>\n",
       "      <td>689270</td>\n",
       "      <td>689270</td>\n",
       "    </tr>\n",
       "  </tbody>\n",
       "</table>\n",
       "<p>1 rows × 29 columns</p>\n",
       "</div>"
      ],
      "text/plain": [
       "   Year  Month  DayofMonth  DayOfWeek  DepTime  CRSDepTime  ArrTime  \\\n",
       "0     0      0           0          0        0           0     7110   \n",
       "\n",
       "   CRSArrTime  UniqueCarrier  FlightNum  ...  TaxiIn  TaxiOut  Cancelled  \\\n",
       "0           0              0          0  ...    7110      455          0   \n",
       "\n",
       "   CancellationCode  Diverted  CarrierDelay  WeatherDelay  NASDelay  \\\n",
       "0                 0         0        689270        689270    689270   \n",
       "\n",
       "   SecurityDelay  LateAircraftDelay  \n",
       "0         689270             689270  \n",
       "\n",
       "[1 rows x 29 columns]"
      ]
     },
     "metadata": {},
     "output_type": "display_data"
    }
   ],
   "source": [
    "# Comprovem que el dataset no te NaNs\n",
    "display(df.isna().sum().to_frame().T)"
   ]
  },
  {
   "cell_type": "code",
   "execution_count": 5,
   "id": "be472024",
   "metadata": {},
   "outputs": [],
   "source": [
    "# Num of NaNs acceptablement baix. Get rid of NaNs\n",
    "df_drop = df.dropna()"
   ]
  },
  {
   "cell_type": "code",
   "execution_count": 6,
   "id": "d542603d",
   "metadata": {},
   "outputs": [
    {
     "data": {
      "text/html": [
       "<div>\n",
       "<style scoped>\n",
       "    .dataframe tbody tr th:only-of-type {\n",
       "        vertical-align: middle;\n",
       "    }\n",
       "\n",
       "    .dataframe tbody tr th {\n",
       "        vertical-align: top;\n",
       "    }\n",
       "\n",
       "    .dataframe thead th {\n",
       "        text-align: right;\n",
       "    }\n",
       "</style>\n",
       "<table border=\"1\" class=\"dataframe\">\n",
       "  <thead>\n",
       "    <tr style=\"text-align: right;\">\n",
       "      <th></th>\n",
       "      <th>Year</th>\n",
       "      <th>Month</th>\n",
       "      <th>DayofMonth</th>\n",
       "      <th>DayOfWeek</th>\n",
       "      <th>DepTime</th>\n",
       "      <th>CRSDepTime</th>\n",
       "      <th>ArrTime</th>\n",
       "      <th>CRSArrTime</th>\n",
       "      <th>FlightNum</th>\n",
       "      <th>ActualElapsedTime</th>\n",
       "      <th>...</th>\n",
       "      <th>Distance</th>\n",
       "      <th>TaxiIn</th>\n",
       "      <th>TaxiOut</th>\n",
       "      <th>Cancelled</th>\n",
       "      <th>Diverted</th>\n",
       "      <th>CarrierDelay</th>\n",
       "      <th>WeatherDelay</th>\n",
       "      <th>NASDelay</th>\n",
       "      <th>SecurityDelay</th>\n",
       "      <th>LateAircraftDelay</th>\n",
       "    </tr>\n",
       "  </thead>\n",
       "  <tbody>\n",
       "    <tr>\n",
       "      <th>count</th>\n",
       "      <td>1247486.0</td>\n",
       "      <td>1.247486e+06</td>\n",
       "      <td>1.247486e+06</td>\n",
       "      <td>1.247486e+06</td>\n",
       "      <td>1.247486e+06</td>\n",
       "      <td>1.247486e+06</td>\n",
       "      <td>1.247486e+06</td>\n",
       "      <td>1.247486e+06</td>\n",
       "      <td>1.247486e+06</td>\n",
       "      <td>1.247486e+06</td>\n",
       "      <td>...</td>\n",
       "      <td>1.247486e+06</td>\n",
       "      <td>1.247486e+06</td>\n",
       "      <td>1.247486e+06</td>\n",
       "      <td>1247486.0</td>\n",
       "      <td>1247486.0</td>\n",
       "      <td>1.247486e+06</td>\n",
       "      <td>1.247486e+06</td>\n",
       "      <td>1.247486e+06</td>\n",
       "      <td>1.247486e+06</td>\n",
       "      <td>1.247486e+06</td>\n",
       "    </tr>\n",
       "    <tr>\n",
       "      <th>mean</th>\n",
       "      <td>2008.0</td>\n",
       "      <td>6.065399e+00</td>\n",
       "      <td>1.572542e+01</td>\n",
       "      <td>3.980082e+00</td>\n",
       "      <td>1.558832e+03</td>\n",
       "      <td>1.487949e+03</td>\n",
       "      <td>1.616749e+03</td>\n",
       "      <td>1.652458e+03</td>\n",
       "      <td>2.276526e+03</td>\n",
       "      <td>1.353779e+02</td>\n",
       "      <td>...</td>\n",
       "      <td>7.415867e+02</td>\n",
       "      <td>7.297232e+00</td>\n",
       "      <td>2.066033e+01</td>\n",
       "      <td>0.0</td>\n",
       "      <td>0.0</td>\n",
       "      <td>1.917943e+01</td>\n",
       "      <td>3.703355e+00</td>\n",
       "      <td>1.502162e+01</td>\n",
       "      <td>9.013728e-02</td>\n",
       "      <td>2.529649e+01</td>\n",
       "    </tr>\n",
       "    <tr>\n",
       "      <th>std</th>\n",
       "      <td>0.0</td>\n",
       "      <td>3.508937e+00</td>\n",
       "      <td>8.793008e+00</td>\n",
       "      <td>1.993270e+00</td>\n",
       "      <td>4.543300e+02</td>\n",
       "      <td>4.211782e+02</td>\n",
       "      <td>5.839416e+02</td>\n",
       "      <td>4.617372e+02</td>\n",
       "      <td>1.997547e+03</td>\n",
       "      <td>7.229636e+01</td>\n",
       "      <td>...</td>\n",
       "      <td>5.593643e+02</td>\n",
       "      <td>6.033239e+00</td>\n",
       "      <td>1.667983e+01</td>\n",
       "      <td>0.0</td>\n",
       "      <td>0.0</td>\n",
       "      <td>4.354624e+01</td>\n",
       "      <td>2.149153e+01</td>\n",
       "      <td>3.383308e+01</td>\n",
       "      <td>2.022716e+00</td>\n",
       "      <td>4.205489e+01</td>\n",
       "    </tr>\n",
       "    <tr>\n",
       "      <th>min</th>\n",
       "      <td>2008.0</td>\n",
       "      <td>1.000000e+00</td>\n",
       "      <td>1.000000e+00</td>\n",
       "      <td>1.000000e+00</td>\n",
       "      <td>1.000000e+00</td>\n",
       "      <td>0.000000e+00</td>\n",
       "      <td>1.000000e+00</td>\n",
       "      <td>0.000000e+00</td>\n",
       "      <td>1.000000e+00</td>\n",
       "      <td>1.400000e+01</td>\n",
       "      <td>...</td>\n",
       "      <td>1.100000e+01</td>\n",
       "      <td>0.000000e+00</td>\n",
       "      <td>0.000000e+00</td>\n",
       "      <td>0.0</td>\n",
       "      <td>0.0</td>\n",
       "      <td>0.000000e+00</td>\n",
       "      <td>0.000000e+00</td>\n",
       "      <td>0.000000e+00</td>\n",
       "      <td>0.000000e+00</td>\n",
       "      <td>0.000000e+00</td>\n",
       "    </tr>\n",
       "    <tr>\n",
       "      <th>25%</th>\n",
       "      <td>2008.0</td>\n",
       "      <td>3.000000e+00</td>\n",
       "      <td>8.000000e+00</td>\n",
       "      <td>2.000000e+00</td>\n",
       "      <td>1.232000e+03</td>\n",
       "      <td>1.150000e+03</td>\n",
       "      <td>1.326000e+03</td>\n",
       "      <td>1.340000e+03</td>\n",
       "      <td>6.370000e+02</td>\n",
       "      <td>8.300000e+01</td>\n",
       "      <td>...</td>\n",
       "      <td>3.340000e+02</td>\n",
       "      <td>4.000000e+00</td>\n",
       "      <td>1.100000e+01</td>\n",
       "      <td>0.0</td>\n",
       "      <td>0.0</td>\n",
       "      <td>0.000000e+00</td>\n",
       "      <td>0.000000e+00</td>\n",
       "      <td>0.000000e+00</td>\n",
       "      <td>0.000000e+00</td>\n",
       "      <td>0.000000e+00</td>\n",
       "    </tr>\n",
       "    <tr>\n",
       "      <th>50%</th>\n",
       "      <td>2008.0</td>\n",
       "      <td>6.000000e+00</td>\n",
       "      <td>1.600000e+01</td>\n",
       "      <td>4.000000e+00</td>\n",
       "      <td>1.618000e+03</td>\n",
       "      <td>1.529000e+03</td>\n",
       "      <td>1.737000e+03</td>\n",
       "      <td>1.722000e+03</td>\n",
       "      <td>1.589000e+03</td>\n",
       "      <td>1.180000e+02</td>\n",
       "      <td>...</td>\n",
       "      <td>5.950000e+02</td>\n",
       "      <td>6.000000e+00</td>\n",
       "      <td>1.600000e+01</td>\n",
       "      <td>0.0</td>\n",
       "      <td>0.0</td>\n",
       "      <td>2.000000e+00</td>\n",
       "      <td>0.000000e+00</td>\n",
       "      <td>2.000000e+00</td>\n",
       "      <td>0.000000e+00</td>\n",
       "      <td>8.000000e+00</td>\n",
       "    </tr>\n",
       "    <tr>\n",
       "      <th>75%</th>\n",
       "      <td>2008.0</td>\n",
       "      <td>9.000000e+00</td>\n",
       "      <td>2.300000e+01</td>\n",
       "      <td>6.000000e+00</td>\n",
       "      <td>1.924000e+03</td>\n",
       "      <td>1.830000e+03</td>\n",
       "      <td>2.048000e+03</td>\n",
       "      <td>2.022000e+03</td>\n",
       "      <td>3.676000e+03</td>\n",
       "      <td>1.670000e+02</td>\n",
       "      <td>...</td>\n",
       "      <td>9.720000e+02</td>\n",
       "      <td>8.000000e+00</td>\n",
       "      <td>2.400000e+01</td>\n",
       "      <td>0.0</td>\n",
       "      <td>0.0</td>\n",
       "      <td>2.100000e+01</td>\n",
       "      <td>0.000000e+00</td>\n",
       "      <td>1.500000e+01</td>\n",
       "      <td>0.000000e+00</td>\n",
       "      <td>3.300000e+01</td>\n",
       "    </tr>\n",
       "    <tr>\n",
       "      <th>max</th>\n",
       "      <td>2008.0</td>\n",
       "      <td>1.200000e+01</td>\n",
       "      <td>3.100000e+01</td>\n",
       "      <td>7.000000e+00</td>\n",
       "      <td>2.400000e+03</td>\n",
       "      <td>2.359000e+03</td>\n",
       "      <td>2.400000e+03</td>\n",
       "      <td>2.359000e+03</td>\n",
       "      <td>9.741000e+03</td>\n",
       "      <td>1.114000e+03</td>\n",
       "      <td>...</td>\n",
       "      <td>4.962000e+03</td>\n",
       "      <td>2.400000e+02</td>\n",
       "      <td>4.220000e+02</td>\n",
       "      <td>0.0</td>\n",
       "      <td>0.0</td>\n",
       "      <td>2.436000e+03</td>\n",
       "      <td>1.352000e+03</td>\n",
       "      <td>1.357000e+03</td>\n",
       "      <td>3.920000e+02</td>\n",
       "      <td>1.316000e+03</td>\n",
       "    </tr>\n",
       "  </tbody>\n",
       "</table>\n",
       "<p>8 rows × 24 columns</p>\n",
       "</div>"
      ],
      "text/plain": [
       "            Year         Month    DayofMonth     DayOfWeek       DepTime  \\\n",
       "count  1247486.0  1.247486e+06  1.247486e+06  1.247486e+06  1.247486e+06   \n",
       "mean      2008.0  6.065399e+00  1.572542e+01  3.980082e+00  1.558832e+03   \n",
       "std          0.0  3.508937e+00  8.793008e+00  1.993270e+00  4.543300e+02   \n",
       "min       2008.0  1.000000e+00  1.000000e+00  1.000000e+00  1.000000e+00   \n",
       "25%       2008.0  3.000000e+00  8.000000e+00  2.000000e+00  1.232000e+03   \n",
       "50%       2008.0  6.000000e+00  1.600000e+01  4.000000e+00  1.618000e+03   \n",
       "75%       2008.0  9.000000e+00  2.300000e+01  6.000000e+00  1.924000e+03   \n",
       "max       2008.0  1.200000e+01  3.100000e+01  7.000000e+00  2.400000e+03   \n",
       "\n",
       "         CRSDepTime       ArrTime    CRSArrTime     FlightNum  \\\n",
       "count  1.247486e+06  1.247486e+06  1.247486e+06  1.247486e+06   \n",
       "mean   1.487949e+03  1.616749e+03  1.652458e+03  2.276526e+03   \n",
       "std    4.211782e+02  5.839416e+02  4.617372e+02  1.997547e+03   \n",
       "min    0.000000e+00  1.000000e+00  0.000000e+00  1.000000e+00   \n",
       "25%    1.150000e+03  1.326000e+03  1.340000e+03  6.370000e+02   \n",
       "50%    1.529000e+03  1.737000e+03  1.722000e+03  1.589000e+03   \n",
       "75%    1.830000e+03  2.048000e+03  2.022000e+03  3.676000e+03   \n",
       "max    2.359000e+03  2.400000e+03  2.359000e+03  9.741000e+03   \n",
       "\n",
       "       ActualElapsedTime  ...      Distance        TaxiIn       TaxiOut  \\\n",
       "count       1.247486e+06  ...  1.247486e+06  1.247486e+06  1.247486e+06   \n",
       "mean        1.353779e+02  ...  7.415867e+02  7.297232e+00  2.066033e+01   \n",
       "std         7.229636e+01  ...  5.593643e+02  6.033239e+00  1.667983e+01   \n",
       "min         1.400000e+01  ...  1.100000e+01  0.000000e+00  0.000000e+00   \n",
       "25%         8.300000e+01  ...  3.340000e+02  4.000000e+00  1.100000e+01   \n",
       "50%         1.180000e+02  ...  5.950000e+02  6.000000e+00  1.600000e+01   \n",
       "75%         1.670000e+02  ...  9.720000e+02  8.000000e+00  2.400000e+01   \n",
       "max         1.114000e+03  ...  4.962000e+03  2.400000e+02  4.220000e+02   \n",
       "\n",
       "       Cancelled   Diverted  CarrierDelay  WeatherDelay      NASDelay  \\\n",
       "count  1247486.0  1247486.0  1.247486e+06  1.247486e+06  1.247486e+06   \n",
       "mean         0.0        0.0  1.917943e+01  3.703355e+00  1.502162e+01   \n",
       "std          0.0        0.0  4.354624e+01  2.149153e+01  3.383308e+01   \n",
       "min          0.0        0.0  0.000000e+00  0.000000e+00  0.000000e+00   \n",
       "25%          0.0        0.0  0.000000e+00  0.000000e+00  0.000000e+00   \n",
       "50%          0.0        0.0  2.000000e+00  0.000000e+00  2.000000e+00   \n",
       "75%          0.0        0.0  2.100000e+01  0.000000e+00  1.500000e+01   \n",
       "max          0.0        0.0  2.436000e+03  1.352000e+03  1.357000e+03   \n",
       "\n",
       "       SecurityDelay  LateAircraftDelay  \n",
       "count   1.247486e+06       1.247486e+06  \n",
       "mean    9.013728e-02       2.529649e+01  \n",
       "std     2.022716e+00       4.205489e+01  \n",
       "min     0.000000e+00       0.000000e+00  \n",
       "25%     0.000000e+00       0.000000e+00  \n",
       "50%     0.000000e+00       8.000000e+00  \n",
       "75%     0.000000e+00       3.300000e+01  \n",
       "max     3.920000e+02       1.316000e+03  \n",
       "\n",
       "[8 rows x 24 columns]"
      ]
     },
     "execution_count": 6,
     "metadata": {},
     "output_type": "execute_result"
    }
   ],
   "source": [
    "df_drop.describe()"
   ]
  },
  {
   "cell_type": "markdown",
   "id": "5a752b9e",
   "metadata": {},
   "source": [
    "#### Model de Regressió 1. Regressió Lineal Simple"
   ]
  },
  {
   "cell_type": "code",
   "execution_count": 7,
   "id": "710bc264",
   "metadata": {},
   "outputs": [],
   "source": [
    "# Separem els predictors dels resultat supervisat\n",
    "\n",
    "# Testejarem si el dia de la setmana te alguna relació amb els retards\n",
    "#df_predictor = df[['DayOfWeek','Year']]\n",
    "df_predictor = df_drop[['DayOfWeek']]\n",
    "\n",
    "# El supervisor sera els retards\n",
    "#df_supervisator = df[['ArrDelay','Year']]\n",
    "df_supervisator = df_drop[['ArrDelay']]"
   ]
  },
  {
   "cell_type": "code",
   "execution_count": 8,
   "id": "2b919d40",
   "metadata": {},
   "outputs": [],
   "source": [
    "# normalitzem les dades\n",
    "scaler = RobustScaler()\n",
    "predictor_std = pd.DataFrame(scaler.fit_transform(df_predictor.values)).round(2)\n",
    "\n",
    "supervisator_std = pd.DataFrame(scaler.fit_transform(df_supervisator.values)).round(2)"
   ]
  },
  {
   "cell_type": "code",
   "execution_count": 9,
   "id": "1e2cb844",
   "metadata": {},
   "outputs": [],
   "source": [
    "# Carreguem les llibreries per crear els grups de entrenament i test\n",
    "from sklearn.model_selection import train_test_split"
   ]
  },
  {
   "cell_type": "code",
   "execution_count": 10,
   "id": "30fd5263",
   "metadata": {},
   "outputs": [],
   "source": [
    "# Creem els 4 grups (2X,2y)\n",
    "X=predictor_std\n",
    "y=supervisator_std\n",
    "\n",
    "X_train, X_test, y_train, y_test = train_test_split (X, y, test_size= 0.3, random_state=111)\n"
   ]
  },
  {
   "cell_type": "code",
   "execution_count": 11,
   "id": "5508364f",
   "metadata": {},
   "outputs": [
    {
     "data": {
      "text/html": [
       "<div>\n",
       "<style scoped>\n",
       "    .dataframe tbody tr th:only-of-type {\n",
       "        vertical-align: middle;\n",
       "    }\n",
       "\n",
       "    .dataframe tbody tr th {\n",
       "        vertical-align: top;\n",
       "    }\n",
       "\n",
       "    .dataframe thead th {\n",
       "        text-align: right;\n",
       "    }\n",
       "</style>\n",
       "<table border=\"1\" class=\"dataframe\">\n",
       "  <thead>\n",
       "    <tr style=\"text-align: right;\">\n",
       "      <th></th>\n",
       "      <th>0</th>\n",
       "    </tr>\n",
       "  </thead>\n",
       "  <tbody>\n",
       "    <tr>\n",
       "      <th>count</th>\n",
       "      <td>1.247486e+06</td>\n",
       "    </tr>\n",
       "    <tr>\n",
       "      <th>mean</th>\n",
       "      <td>-4.979415e-03</td>\n",
       "    </tr>\n",
       "    <tr>\n",
       "      <th>std</th>\n",
       "      <td>4.983174e-01</td>\n",
       "    </tr>\n",
       "    <tr>\n",
       "      <th>min</th>\n",
       "      <td>-7.500000e-01</td>\n",
       "    </tr>\n",
       "    <tr>\n",
       "      <th>25%</th>\n",
       "      <td>-5.000000e-01</td>\n",
       "    </tr>\n",
       "    <tr>\n",
       "      <th>50%</th>\n",
       "      <td>0.000000e+00</td>\n",
       "    </tr>\n",
       "    <tr>\n",
       "      <th>75%</th>\n",
       "      <td>5.000000e-01</td>\n",
       "    </tr>\n",
       "    <tr>\n",
       "      <th>max</th>\n",
       "      <td>7.500000e-01</td>\n",
       "    </tr>\n",
       "  </tbody>\n",
       "</table>\n",
       "</div>"
      ],
      "text/plain": [
       "                  0\n",
       "count  1.247486e+06\n",
       "mean  -4.979415e-03\n",
       "std    4.983174e-01\n",
       "min   -7.500000e-01\n",
       "25%   -5.000000e-01\n",
       "50%    0.000000e+00\n",
       "75%    5.000000e-01\n",
       "max    7.500000e-01"
      ]
     },
     "execution_count": 11,
     "metadata": {},
     "output_type": "execute_result"
    }
   ],
   "source": [
    "predictor_std.describe()"
   ]
  },
  {
   "cell_type": "code",
   "execution_count": 12,
   "id": "63aafbe5",
   "metadata": {},
   "outputs": [
    {
     "data": {
      "text/html": [
       "<div>\n",
       "<style scoped>\n",
       "    .dataframe tbody tr th:only-of-type {\n",
       "        vertical-align: middle;\n",
       "    }\n",
       "\n",
       "    .dataframe tbody tr th {\n",
       "        vertical-align: top;\n",
       "    }\n",
       "\n",
       "    .dataframe thead th {\n",
       "        text-align: right;\n",
       "    }\n",
       "</style>\n",
       "<table border=\"1\" class=\"dataframe\">\n",
       "  <thead>\n",
       "    <tr style=\"text-align: right;\">\n",
       "      <th></th>\n",
       "      <th>0</th>\n",
       "    </tr>\n",
       "  </thead>\n",
       "  <tbody>\n",
       "    <tr>\n",
       "      <th>count</th>\n",
       "      <td>1.247486e+06</td>\n",
       "    </tr>\n",
       "    <tr>\n",
       "      <th>mean</th>\n",
       "      <td>3.827717e-01</td>\n",
       "    </tr>\n",
       "    <tr>\n",
       "      <th>std</th>\n",
       "      <td>1.146358e+00</td>\n",
       "    </tr>\n",
       "    <tr>\n",
       "      <th>min</th>\n",
       "      <td>-5.300000e-01</td>\n",
       "    </tr>\n",
       "    <tr>\n",
       "      <th>25%</th>\n",
       "      <td>-3.200000e-01</td>\n",
       "    </tr>\n",
       "    <tr>\n",
       "      <th>50%</th>\n",
       "      <td>0.000000e+00</td>\n",
       "    </tr>\n",
       "    <tr>\n",
       "      <th>75%</th>\n",
       "      <td>6.800000e-01</td>\n",
       "    </tr>\n",
       "    <tr>\n",
       "      <th>max</th>\n",
       "      <td>4.562000e+01</td>\n",
       "    </tr>\n",
       "  </tbody>\n",
       "</table>\n",
       "</div>"
      ],
      "text/plain": [
       "                  0\n",
       "count  1.247486e+06\n",
       "mean   3.827717e-01\n",
       "std    1.146358e+00\n",
       "min   -5.300000e-01\n",
       "25%   -3.200000e-01\n",
       "50%    0.000000e+00\n",
       "75%    6.800000e-01\n",
       "max    4.562000e+01"
      ]
     },
     "execution_count": 12,
     "metadata": {},
     "output_type": "execute_result"
    }
   ],
   "source": [
    "supervisator_std.describe()"
   ]
  },
  {
   "cell_type": "code",
   "execution_count": 13,
   "id": "2f799968",
   "metadata": {},
   "outputs": [
    {
     "data": {
      "text/html": [
       "<div>\n",
       "<style scoped>\n",
       "    .dataframe tbody tr th:only-of-type {\n",
       "        vertical-align: middle;\n",
       "    }\n",
       "\n",
       "    .dataframe tbody tr th {\n",
       "        vertical-align: top;\n",
       "    }\n",
       "\n",
       "    .dataframe thead th {\n",
       "        text-align: right;\n",
       "    }\n",
       "</style>\n",
       "<table border=\"1\" class=\"dataframe\">\n",
       "  <thead>\n",
       "    <tr style=\"text-align: right;\">\n",
       "      <th></th>\n",
       "      <th>0</th>\n",
       "    </tr>\n",
       "  </thead>\n",
       "  <tbody>\n",
       "    <tr>\n",
       "      <th>0</th>\n",
       "      <td>0</td>\n",
       "    </tr>\n",
       "  </tbody>\n",
       "</table>\n",
       "</div>"
      ],
      "text/plain": [
       "   0\n",
       "0  0"
      ]
     },
     "metadata": {},
     "output_type": "display_data"
    }
   ],
   "source": [
    "# Comprovem que el datasets de treball no tenen NaNs\n",
    "display(predictor_std.isna().sum().to_frame().T)"
   ]
  },
  {
   "cell_type": "code",
   "execution_count": 14,
   "id": "ccdda6b8",
   "metadata": {},
   "outputs": [
    {
     "data": {
      "text/html": [
       "<div>\n",
       "<style scoped>\n",
       "    .dataframe tbody tr th:only-of-type {\n",
       "        vertical-align: middle;\n",
       "    }\n",
       "\n",
       "    .dataframe tbody tr th {\n",
       "        vertical-align: top;\n",
       "    }\n",
       "\n",
       "    .dataframe thead th {\n",
       "        text-align: right;\n",
       "    }\n",
       "</style>\n",
       "<table border=\"1\" class=\"dataframe\">\n",
       "  <thead>\n",
       "    <tr style=\"text-align: right;\">\n",
       "      <th></th>\n",
       "      <th>0</th>\n",
       "    </tr>\n",
       "  </thead>\n",
       "  <tbody>\n",
       "    <tr>\n",
       "      <th>0</th>\n",
       "      <td>0</td>\n",
       "    </tr>\n",
       "  </tbody>\n",
       "</table>\n",
       "</div>"
      ],
      "text/plain": [
       "   0\n",
       "0  0"
      ]
     },
     "metadata": {},
     "output_type": "display_data"
    }
   ],
   "source": [
    "# Comprovem que el datasets de treball no tenen NaNs\n",
    "display(supervisator_std.isna().sum().to_frame().T)"
   ]
  },
  {
   "cell_type": "code",
   "execution_count": 15,
   "id": "466cca5e",
   "metadata": {},
   "outputs": [
    {
     "data": {
      "text/html": [
       "<div>\n",
       "<style scoped>\n",
       "    .dataframe tbody tr th:only-of-type {\n",
       "        vertical-align: middle;\n",
       "    }\n",
       "\n",
       "    .dataframe tbody tr th {\n",
       "        vertical-align: top;\n",
       "    }\n",
       "\n",
       "    .dataframe thead th {\n",
       "        text-align: right;\n",
       "    }\n",
       "</style>\n",
       "<table border=\"1\" class=\"dataframe\">\n",
       "  <thead>\n",
       "    <tr style=\"text-align: right;\">\n",
       "      <th></th>\n",
       "      <th>0</th>\n",
       "    </tr>\n",
       "  </thead>\n",
       "  <tbody>\n",
       "    <tr>\n",
       "      <th>0</th>\n",
       "      <td>0</td>\n",
       "    </tr>\n",
       "  </tbody>\n",
       "</table>\n",
       "</div>"
      ],
      "text/plain": [
       "   0\n",
       "0  0"
      ]
     },
     "metadata": {},
     "output_type": "display_data"
    }
   ],
   "source": [
    "display(supervisator_std.isna().sum().to_frame().T)"
   ]
  },
  {
   "cell_type": "code",
   "execution_count": 16,
   "id": "7232cba2",
   "metadata": {},
   "outputs": [],
   "source": [
    "# 1.Regressió lineal Simple\n",
    "from sklearn.linear_model import LinearRegression"
   ]
  },
  {
   "cell_type": "markdown",
   "id": "2717e41b",
   "metadata": {},
   "source": [
    "#### Creem el model i l'entrenem"
   ]
  },
  {
   "cell_type": "code",
   "execution_count": 17,
   "id": "3178b43e",
   "metadata": {},
   "outputs": [
    {
     "data": {
      "text/plain": [
       "array([[0.38916789],\n",
       "       [0.36824319],\n",
       "       [0.36824319],\n",
       "       ...,\n",
       "       [0.39614279],\n",
       "       [0.38219299],\n",
       "       [0.36126829]])"
      ]
     },
     "execution_count": 17,
     "metadata": {},
     "output_type": "execute_result"
    }
   ],
   "source": [
    "model_lrs = LinearRegression()\n",
    "model_lrs.fit(X_train, y_train)\n",
    "\n",
    "# Prediccions\n",
    "test_predictions = model_lrs.predict(X_test)\n",
    "test_predictions"
   ]
  },
  {
   "cell_type": "code",
   "execution_count": 18,
   "id": "eb3b0da4",
   "metadata": {},
   "outputs": [
    {
     "name": "stdout",
     "output_type": "stream",
     "text": [
      "R^2 value:  0.00014121454871340866\n",
      "Coeficient Factor:  [[0.02789959]]\n",
      "Intercept: [0.38219299]\n"
     ]
    }
   ],
   "source": [
    "# Level of accuracy LRS\n",
    "print(\"R^2 value: \",model_lrs.score(X,y))\n",
    "print(\"Coeficient Factor: \", model_lrs.coef_)\n",
    "print (\"Intercept:\", model_lrs.intercept_)"
   ]
  },
  {
   "cell_type": "code",
   "execution_count": 19,
   "id": "9ad87e5d",
   "metadata": {},
   "outputs": [
    {
     "name": "stdout",
     "output_type": "stream",
     "text": [
      "0.7608108279681104 1.329881765167558 1.1532049970267897\n"
     ]
    }
   ],
   "source": [
    "from sklearn.metrics import mean_absolute_error\n",
    "from sklearn.metrics import mean_squared_error\n",
    "from sklearn.neural_network import MLPRegressor\n",
    "\n",
    "MAE = mean_absolute_error(y_test, test_predictions)\n",
    "MSE = mean_squared_error(y_test, test_predictions)\n",
    "RMSE = np.sqrt(MSE)\n",
    "\n",
    "print(MAE,MSE,RMSE)"
   ]
  },
  {
   "cell_type": "markdown",
   "id": "9f07efdc",
   "metadata": {},
   "source": [
    "#### Fem el Cross Validation per comprovar"
   ]
  },
  {
   "cell_type": "code",
   "execution_count": 20,
   "id": "3929ef51",
   "metadata": {},
   "outputs": [
    {
     "name": "stderr",
     "output_type": "stream",
     "text": [
      "/Users/ecanals/opt/anaconda3/lib/python3.8/site-packages/sklearn/utils/validation.py:72: DataConversionWarning: A column-vector y was passed when a 1d array was expected. Please change the shape of y to (n_samples, ), for example using ravel().\n",
      "  return f(**kwargs)\n",
      "/Users/ecanals/opt/anaconda3/lib/python3.8/site-packages/sklearn/utils/validation.py:72: DataConversionWarning: A column-vector y was passed when a 1d array was expected. Please change the shape of y to (n_samples, ), for example using ravel().\n",
      "  return f(**kwargs)\n",
      "/Users/ecanals/opt/anaconda3/lib/python3.8/site-packages/sklearn/utils/validation.py:72: DataConversionWarning: A column-vector y was passed when a 1d array was expected. Please change the shape of y to (n_samples, ), for example using ravel().\n",
      "  return f(**kwargs)\n",
      "/Users/ecanals/opt/anaconda3/lib/python3.8/site-packages/sklearn/utils/validation.py:72: DataConversionWarning: A column-vector y was passed when a 1d array was expected. Please change the shape of y to (n_samples, ), for example using ravel().\n",
      "  return f(**kwargs)\n",
      "/Users/ecanals/opt/anaconda3/lib/python3.8/site-packages/sklearn/utils/validation.py:72: DataConversionWarning: A column-vector y was passed when a 1d array was expected. Please change the shape of y to (n_samples, ), for example using ravel().\n",
      "  return f(**kwargs)\n"
     ]
    },
    {
     "name": "stdout",
     "output_type": "stream",
     "text": [
      "[-0.0012962  -0.00379338  0.00037261 -0.00269    -0.0008263 ]\n"
     ]
    }
   ],
   "source": [
    "# Fem el cross validation per comprovar si tenim o no overfitting\n",
    "from sklearn.model_selection import train_test_split, cross_val_score, validation_curve\n",
    "\n",
    "rate1 = 0.005\n",
    "rate2 = 0.1\n",
    "mlpr = MLPRegressor(hidden_layer_sizes=(12,10), max_iter=700, learning_rate_init=rate1)\n",
    "scores = cross_val_score(mlpr, X, y, cv=5)\n",
    "print(scores)"
   ]
  },
  {
   "cell_type": "markdown",
   "id": "e7219520",
   "metadata": {},
   "source": [
    "#### 2.Regressió lineal Multiple MLR"
   ]
  },
  {
   "cell_type": "markdown",
   "id": "529c2413",
   "metadata": {},
   "source": [
    "#### Utilitzarem les columnes Origin, Origin Delay per veure si podem predir correctament l'endarreriment dels vols depenent de l'origen del vol."
   ]
  },
  {
   "cell_type": "code",
   "execution_count": 21,
   "id": "951e2e84",
   "metadata": {},
   "outputs": [
    {
     "data": {
      "text/html": [
       "<div>\n",
       "<style scoped>\n",
       "    .dataframe tbody tr th:only-of-type {\n",
       "        vertical-align: middle;\n",
       "    }\n",
       "\n",
       "    .dataframe tbody tr th {\n",
       "        vertical-align: top;\n",
       "    }\n",
       "\n",
       "    .dataframe thead th {\n",
       "        text-align: right;\n",
       "    }\n",
       "</style>\n",
       "<table border=\"1\" class=\"dataframe\">\n",
       "  <thead>\n",
       "    <tr style=\"text-align: right;\">\n",
       "      <th></th>\n",
       "      <th>DepDelay</th>\n",
       "      <th>Origin</th>\n",
       "    </tr>\n",
       "  </thead>\n",
       "  <tbody>\n",
       "    <tr>\n",
       "      <th>4</th>\n",
       "      <td>34.0</td>\n",
       "      <td>IND</td>\n",
       "    </tr>\n",
       "    <tr>\n",
       "      <th>6</th>\n",
       "      <td>67.0</td>\n",
       "      <td>IND</td>\n",
       "    </tr>\n",
       "    <tr>\n",
       "      <th>11</th>\n",
       "      <td>94.0</td>\n",
       "      <td>IND</td>\n",
       "    </tr>\n",
       "    <tr>\n",
       "      <th>16</th>\n",
       "      <td>27.0</td>\n",
       "      <td>IND</td>\n",
       "    </tr>\n",
       "    <tr>\n",
       "      <th>18</th>\n",
       "      <td>28.0</td>\n",
       "      <td>IND</td>\n",
       "    </tr>\n",
       "  </tbody>\n",
       "</table>\n",
       "</div>"
      ],
      "text/plain": [
       "    DepDelay Origin\n",
       "4       34.0    IND\n",
       "6       67.0    IND\n",
       "11      94.0    IND\n",
       "16      27.0    IND\n",
       "18      28.0    IND"
      ]
     },
     "execution_count": 21,
     "metadata": {},
     "output_type": "execute_result"
    }
   ],
   "source": [
    "mlr_df = df_drop[['DepDelay','Origin']]\n",
    "mlr_df.head()"
   ]
  },
  {
   "cell_type": "code",
   "execution_count": 22,
   "id": "f7be323a",
   "metadata": {},
   "outputs": [
    {
     "name": "stdout",
     "output_type": "stream",
     "text": [
      "<class 'pandas.core.frame.DataFrame'>\n",
      "Int64Index: 1247486 entries, 4 to 7009718\n",
      "Columns: 302 entries, ABE to YUM\n",
      "dtypes: uint8(302)\n",
      "memory usage: 368.8 MB\n"
     ]
    }
   ],
   "source": [
    "# Conversió de Origin a numerics\n",
    "dummies = pd.get_dummies(mlr_df['Origin'])\n",
    "dummies.info()"
   ]
  },
  {
   "cell_type": "code",
   "execution_count": 23,
   "id": "1741c9c0",
   "metadata": {},
   "outputs": [
    {
     "data": {
      "text/html": [
       "<div>\n",
       "<style scoped>\n",
       "    .dataframe tbody tr th:only-of-type {\n",
       "        vertical-align: middle;\n",
       "    }\n",
       "\n",
       "    .dataframe tbody tr th {\n",
       "        vertical-align: top;\n",
       "    }\n",
       "\n",
       "    .dataframe thead th {\n",
       "        text-align: right;\n",
       "    }\n",
       "</style>\n",
       "<table border=\"1\" class=\"dataframe\">\n",
       "  <thead>\n",
       "    <tr style=\"text-align: right;\">\n",
       "      <th></th>\n",
       "      <th>DepDelay</th>\n",
       "      <th>Origin</th>\n",
       "      <th>ABE</th>\n",
       "      <th>ABI</th>\n",
       "      <th>ABQ</th>\n",
       "      <th>ABY</th>\n",
       "      <th>ACK</th>\n",
       "      <th>ACT</th>\n",
       "      <th>ACV</th>\n",
       "      <th>ACY</th>\n",
       "      <th>...</th>\n",
       "      <th>TYR</th>\n",
       "      <th>TYS</th>\n",
       "      <th>VLD</th>\n",
       "      <th>VPS</th>\n",
       "      <th>WRG</th>\n",
       "      <th>WYS</th>\n",
       "      <th>XNA</th>\n",
       "      <th>YAK</th>\n",
       "      <th>YKM</th>\n",
       "      <th>YUM</th>\n",
       "    </tr>\n",
       "  </thead>\n",
       "  <tbody>\n",
       "    <tr>\n",
       "      <th>4</th>\n",
       "      <td>34.0</td>\n",
       "      <td>IND</td>\n",
       "      <td>0</td>\n",
       "      <td>0</td>\n",
       "      <td>0</td>\n",
       "      <td>0</td>\n",
       "      <td>0</td>\n",
       "      <td>0</td>\n",
       "      <td>0</td>\n",
       "      <td>0</td>\n",
       "      <td>...</td>\n",
       "      <td>0</td>\n",
       "      <td>0</td>\n",
       "      <td>0</td>\n",
       "      <td>0</td>\n",
       "      <td>0</td>\n",
       "      <td>0</td>\n",
       "      <td>0</td>\n",
       "      <td>0</td>\n",
       "      <td>0</td>\n",
       "      <td>0</td>\n",
       "    </tr>\n",
       "    <tr>\n",
       "      <th>6</th>\n",
       "      <td>67.0</td>\n",
       "      <td>IND</td>\n",
       "      <td>0</td>\n",
       "      <td>0</td>\n",
       "      <td>0</td>\n",
       "      <td>0</td>\n",
       "      <td>0</td>\n",
       "      <td>0</td>\n",
       "      <td>0</td>\n",
       "      <td>0</td>\n",
       "      <td>...</td>\n",
       "      <td>0</td>\n",
       "      <td>0</td>\n",
       "      <td>0</td>\n",
       "      <td>0</td>\n",
       "      <td>0</td>\n",
       "      <td>0</td>\n",
       "      <td>0</td>\n",
       "      <td>0</td>\n",
       "      <td>0</td>\n",
       "      <td>0</td>\n",
       "    </tr>\n",
       "    <tr>\n",
       "      <th>11</th>\n",
       "      <td>94.0</td>\n",
       "      <td>IND</td>\n",
       "      <td>0</td>\n",
       "      <td>0</td>\n",
       "      <td>0</td>\n",
       "      <td>0</td>\n",
       "      <td>0</td>\n",
       "      <td>0</td>\n",
       "      <td>0</td>\n",
       "      <td>0</td>\n",
       "      <td>...</td>\n",
       "      <td>0</td>\n",
       "      <td>0</td>\n",
       "      <td>0</td>\n",
       "      <td>0</td>\n",
       "      <td>0</td>\n",
       "      <td>0</td>\n",
       "      <td>0</td>\n",
       "      <td>0</td>\n",
       "      <td>0</td>\n",
       "      <td>0</td>\n",
       "    </tr>\n",
       "    <tr>\n",
       "      <th>16</th>\n",
       "      <td>27.0</td>\n",
       "      <td>IND</td>\n",
       "      <td>0</td>\n",
       "      <td>0</td>\n",
       "      <td>0</td>\n",
       "      <td>0</td>\n",
       "      <td>0</td>\n",
       "      <td>0</td>\n",
       "      <td>0</td>\n",
       "      <td>0</td>\n",
       "      <td>...</td>\n",
       "      <td>0</td>\n",
       "      <td>0</td>\n",
       "      <td>0</td>\n",
       "      <td>0</td>\n",
       "      <td>0</td>\n",
       "      <td>0</td>\n",
       "      <td>0</td>\n",
       "      <td>0</td>\n",
       "      <td>0</td>\n",
       "      <td>0</td>\n",
       "    </tr>\n",
       "    <tr>\n",
       "      <th>18</th>\n",
       "      <td>28.0</td>\n",
       "      <td>IND</td>\n",
       "      <td>0</td>\n",
       "      <td>0</td>\n",
       "      <td>0</td>\n",
       "      <td>0</td>\n",
       "      <td>0</td>\n",
       "      <td>0</td>\n",
       "      <td>0</td>\n",
       "      <td>0</td>\n",
       "      <td>...</td>\n",
       "      <td>0</td>\n",
       "      <td>0</td>\n",
       "      <td>0</td>\n",
       "      <td>0</td>\n",
       "      <td>0</td>\n",
       "      <td>0</td>\n",
       "      <td>0</td>\n",
       "      <td>0</td>\n",
       "      <td>0</td>\n",
       "      <td>0</td>\n",
       "    </tr>\n",
       "  </tbody>\n",
       "</table>\n",
       "<p>5 rows × 304 columns</p>\n",
       "</div>"
      ],
      "text/plain": [
       "    DepDelay Origin  ABE  ABI  ABQ  ABY  ACK  ACT  ACV  ACY  ...  TYR  TYS  \\\n",
       "4       34.0    IND    0    0    0    0    0    0    0    0  ...    0    0   \n",
       "6       67.0    IND    0    0    0    0    0    0    0    0  ...    0    0   \n",
       "11      94.0    IND    0    0    0    0    0    0    0    0  ...    0    0   \n",
       "16      27.0    IND    0    0    0    0    0    0    0    0  ...    0    0   \n",
       "18      28.0    IND    0    0    0    0    0    0    0    0  ...    0    0   \n",
       "\n",
       "    VLD  VPS  WRG  WYS  XNA  YAK  YKM  YUM  \n",
       "4     0    0    0    0    0    0    0    0  \n",
       "6     0    0    0    0    0    0    0    0  \n",
       "11    0    0    0    0    0    0    0    0  \n",
       "16    0    0    0    0    0    0    0    0  \n",
       "18    0    0    0    0    0    0    0    0  \n",
       "\n",
       "[5 rows x 304 columns]"
      ]
     },
     "execution_count": 23,
     "metadata": {},
     "output_type": "execute_result"
    }
   ],
   "source": [
    "# Merge dels dataframes dummies amb el df original\n",
    "mlr_expanded = pd.concat([mlr_df,dummies], axis=1)\n",
    "mlr_expanded.head()"
   ]
  },
  {
   "cell_type": "code",
   "execution_count": 24,
   "id": "dee5fd85",
   "metadata": {},
   "outputs": [],
   "source": [
    "# Eliminar Origin original tipus text\n",
    "mlr_expanded = mlr_expanded.drop('Origin',axis=1)"
   ]
  },
  {
   "cell_type": "code",
   "execution_count": 25,
   "id": "ec062b5b",
   "metadata": {},
   "outputs": [
    {
     "name": "stdout",
     "output_type": "stream",
     "text": [
      "<class 'pandas.core.frame.DataFrame'>\n",
      "Int64Index: 1247486 entries, 4 to 7009718\n",
      "Columns: 303 entries, DepDelay to YUM\n",
      "dtypes: float64(1), uint8(302)\n",
      "memory usage: 378.3 MB\n"
     ]
    }
   ],
   "source": [
    "mlr_expanded.info()"
   ]
  },
  {
   "cell_type": "code",
   "execution_count": 26,
   "id": "a1ded919",
   "metadata": {},
   "outputs": [
    {
     "data": {
      "text/plain": [
       "DepDelay    float64\n",
       "ABE           uint8\n",
       "ABI           uint8\n",
       "ABQ           uint8\n",
       "ABY           uint8\n",
       "             ...   \n",
       "WYS           uint8\n",
       "XNA           uint8\n",
       "YAK           uint8\n",
       "YKM           uint8\n",
       "YUM           uint8\n",
       "Length: 303, dtype: object"
      ]
     },
     "execution_count": 26,
     "metadata": {},
     "output_type": "execute_result"
    }
   ],
   "source": [
    "mlr_expanded.dtypes"
   ]
  },
  {
   "cell_type": "code",
   "execution_count": 27,
   "id": "b3c9495e",
   "metadata": {},
   "outputs": [
    {
     "data": {
      "text/plain": [
       "Index(['DepDelay', 'ABE', 'ABI', 'ABQ', 'ABY', 'ACK', 'ACT', 'ACV', 'ACY',\n",
       "       'ADK',\n",
       "       ...\n",
       "       'TYR', 'TYS', 'VLD', 'VPS', 'WRG', 'WYS', 'XNA', 'YAK', 'YKM', 'YUM'],\n",
       "      dtype='object', length=303)"
      ]
     },
     "execution_count": 27,
     "metadata": {},
     "output_type": "execute_result"
    }
   ],
   "source": [
    "mlr_expanded.columns"
   ]
  },
  {
   "cell_type": "code",
   "execution_count": 28,
   "id": "6f5e2830",
   "metadata": {},
   "outputs": [
    {
     "data": {
      "text/html": [
       "<div>\n",
       "<style scoped>\n",
       "    .dataframe tbody tr th:only-of-type {\n",
       "        vertical-align: middle;\n",
       "    }\n",
       "\n",
       "    .dataframe tbody tr th {\n",
       "        vertical-align: top;\n",
       "    }\n",
       "\n",
       "    .dataframe thead th {\n",
       "        text-align: right;\n",
       "    }\n",
       "</style>\n",
       "<table border=\"1\" class=\"dataframe\">\n",
       "  <thead>\n",
       "    <tr style=\"text-align: right;\">\n",
       "      <th></th>\n",
       "      <th>0</th>\n",
       "      <th>1</th>\n",
       "      <th>2</th>\n",
       "      <th>3</th>\n",
       "      <th>4</th>\n",
       "      <th>5</th>\n",
       "      <th>6</th>\n",
       "      <th>7</th>\n",
       "      <th>8</th>\n",
       "      <th>9</th>\n",
       "      <th>...</th>\n",
       "      <th>293</th>\n",
       "      <th>294</th>\n",
       "      <th>295</th>\n",
       "      <th>296</th>\n",
       "      <th>297</th>\n",
       "      <th>298</th>\n",
       "      <th>299</th>\n",
       "      <th>300</th>\n",
       "      <th>301</th>\n",
       "      <th>302</th>\n",
       "    </tr>\n",
       "  </thead>\n",
       "  <tbody>\n",
       "    <tr>\n",
       "      <th>0</th>\n",
       "      <td>-0.137255</td>\n",
       "      <td>0.0</td>\n",
       "      <td>0.0</td>\n",
       "      <td>0.0</td>\n",
       "      <td>0.0</td>\n",
       "      <td>0.0</td>\n",
       "      <td>0.0</td>\n",
       "      <td>0.0</td>\n",
       "      <td>0.0</td>\n",
       "      <td>0.0</td>\n",
       "      <td>...</td>\n",
       "      <td>0.0</td>\n",
       "      <td>0.0</td>\n",
       "      <td>0.0</td>\n",
       "      <td>0.0</td>\n",
       "      <td>0.0</td>\n",
       "      <td>0.0</td>\n",
       "      <td>0.0</td>\n",
       "      <td>0.0</td>\n",
       "      <td>0.0</td>\n",
       "      <td>0.0</td>\n",
       "    </tr>\n",
       "    <tr>\n",
       "      <th>1</th>\n",
       "      <td>0.509804</td>\n",
       "      <td>0.0</td>\n",
       "      <td>0.0</td>\n",
       "      <td>0.0</td>\n",
       "      <td>0.0</td>\n",
       "      <td>0.0</td>\n",
       "      <td>0.0</td>\n",
       "      <td>0.0</td>\n",
       "      <td>0.0</td>\n",
       "      <td>0.0</td>\n",
       "      <td>...</td>\n",
       "      <td>0.0</td>\n",
       "      <td>0.0</td>\n",
       "      <td>0.0</td>\n",
       "      <td>0.0</td>\n",
       "      <td>0.0</td>\n",
       "      <td>0.0</td>\n",
       "      <td>0.0</td>\n",
       "      <td>0.0</td>\n",
       "      <td>0.0</td>\n",
       "      <td>0.0</td>\n",
       "    </tr>\n",
       "    <tr>\n",
       "      <th>2</th>\n",
       "      <td>1.039216</td>\n",
       "      <td>0.0</td>\n",
       "      <td>0.0</td>\n",
       "      <td>0.0</td>\n",
       "      <td>0.0</td>\n",
       "      <td>0.0</td>\n",
       "      <td>0.0</td>\n",
       "      <td>0.0</td>\n",
       "      <td>0.0</td>\n",
       "      <td>0.0</td>\n",
       "      <td>...</td>\n",
       "      <td>0.0</td>\n",
       "      <td>0.0</td>\n",
       "      <td>0.0</td>\n",
       "      <td>0.0</td>\n",
       "      <td>0.0</td>\n",
       "      <td>0.0</td>\n",
       "      <td>0.0</td>\n",
       "      <td>0.0</td>\n",
       "      <td>0.0</td>\n",
       "      <td>0.0</td>\n",
       "    </tr>\n",
       "    <tr>\n",
       "      <th>3</th>\n",
       "      <td>-0.274510</td>\n",
       "      <td>0.0</td>\n",
       "      <td>0.0</td>\n",
       "      <td>0.0</td>\n",
       "      <td>0.0</td>\n",
       "      <td>0.0</td>\n",
       "      <td>0.0</td>\n",
       "      <td>0.0</td>\n",
       "      <td>0.0</td>\n",
       "      <td>0.0</td>\n",
       "      <td>...</td>\n",
       "      <td>0.0</td>\n",
       "      <td>0.0</td>\n",
       "      <td>0.0</td>\n",
       "      <td>0.0</td>\n",
       "      <td>0.0</td>\n",
       "      <td>0.0</td>\n",
       "      <td>0.0</td>\n",
       "      <td>0.0</td>\n",
       "      <td>0.0</td>\n",
       "      <td>0.0</td>\n",
       "    </tr>\n",
       "    <tr>\n",
       "      <th>4</th>\n",
       "      <td>-0.254902</td>\n",
       "      <td>0.0</td>\n",
       "      <td>0.0</td>\n",
       "      <td>0.0</td>\n",
       "      <td>0.0</td>\n",
       "      <td>0.0</td>\n",
       "      <td>0.0</td>\n",
       "      <td>0.0</td>\n",
       "      <td>0.0</td>\n",
       "      <td>0.0</td>\n",
       "      <td>...</td>\n",
       "      <td>0.0</td>\n",
       "      <td>0.0</td>\n",
       "      <td>0.0</td>\n",
       "      <td>0.0</td>\n",
       "      <td>0.0</td>\n",
       "      <td>0.0</td>\n",
       "      <td>0.0</td>\n",
       "      <td>0.0</td>\n",
       "      <td>0.0</td>\n",
       "      <td>0.0</td>\n",
       "    </tr>\n",
       "    <tr>\n",
       "      <th>...</th>\n",
       "      <td>...</td>\n",
       "      <td>...</td>\n",
       "      <td>...</td>\n",
       "      <td>...</td>\n",
       "      <td>...</td>\n",
       "      <td>...</td>\n",
       "      <td>...</td>\n",
       "      <td>...</td>\n",
       "      <td>...</td>\n",
       "      <td>...</td>\n",
       "      <td>...</td>\n",
       "      <td>...</td>\n",
       "      <td>...</td>\n",
       "      <td>...</td>\n",
       "      <td>...</td>\n",
       "      <td>...</td>\n",
       "      <td>...</td>\n",
       "      <td>...</td>\n",
       "      <td>...</td>\n",
       "      <td>...</td>\n",
       "      <td>...</td>\n",
       "    </tr>\n",
       "    <tr>\n",
       "      <th>1247481</th>\n",
       "      <td>0.196078</td>\n",
       "      <td>0.0</td>\n",
       "      <td>0.0</td>\n",
       "      <td>0.0</td>\n",
       "      <td>0.0</td>\n",
       "      <td>0.0</td>\n",
       "      <td>0.0</td>\n",
       "      <td>0.0</td>\n",
       "      <td>0.0</td>\n",
       "      <td>0.0</td>\n",
       "      <td>...</td>\n",
       "      <td>0.0</td>\n",
       "      <td>0.0</td>\n",
       "      <td>0.0</td>\n",
       "      <td>0.0</td>\n",
       "      <td>0.0</td>\n",
       "      <td>0.0</td>\n",
       "      <td>0.0</td>\n",
       "      <td>0.0</td>\n",
       "      <td>0.0</td>\n",
       "      <td>0.0</td>\n",
       "    </tr>\n",
       "    <tr>\n",
       "      <th>1247482</th>\n",
       "      <td>-0.176471</td>\n",
       "      <td>0.0</td>\n",
       "      <td>0.0</td>\n",
       "      <td>0.0</td>\n",
       "      <td>0.0</td>\n",
       "      <td>0.0</td>\n",
       "      <td>0.0</td>\n",
       "      <td>0.0</td>\n",
       "      <td>0.0</td>\n",
       "      <td>0.0</td>\n",
       "      <td>...</td>\n",
       "      <td>0.0</td>\n",
       "      <td>0.0</td>\n",
       "      <td>0.0</td>\n",
       "      <td>0.0</td>\n",
       "      <td>0.0</td>\n",
       "      <td>0.0</td>\n",
       "      <td>0.0</td>\n",
       "      <td>0.0</td>\n",
       "      <td>0.0</td>\n",
       "      <td>0.0</td>\n",
       "    </tr>\n",
       "    <tr>\n",
       "      <th>1247483</th>\n",
       "      <td>-0.215686</td>\n",
       "      <td>0.0</td>\n",
       "      <td>0.0</td>\n",
       "      <td>0.0</td>\n",
       "      <td>0.0</td>\n",
       "      <td>0.0</td>\n",
       "      <td>0.0</td>\n",
       "      <td>0.0</td>\n",
       "      <td>0.0</td>\n",
       "      <td>0.0</td>\n",
       "      <td>...</td>\n",
       "      <td>0.0</td>\n",
       "      <td>0.0</td>\n",
       "      <td>0.0</td>\n",
       "      <td>0.0</td>\n",
       "      <td>0.0</td>\n",
       "      <td>0.0</td>\n",
       "      <td>0.0</td>\n",
       "      <td>0.0</td>\n",
       "      <td>0.0</td>\n",
       "      <td>0.0</td>\n",
       "    </tr>\n",
       "    <tr>\n",
       "      <th>1247484</th>\n",
       "      <td>0.313725</td>\n",
       "      <td>0.0</td>\n",
       "      <td>0.0</td>\n",
       "      <td>0.0</td>\n",
       "      <td>0.0</td>\n",
       "      <td>0.0</td>\n",
       "      <td>0.0</td>\n",
       "      <td>0.0</td>\n",
       "      <td>0.0</td>\n",
       "      <td>0.0</td>\n",
       "      <td>...</td>\n",
       "      <td>0.0</td>\n",
       "      <td>0.0</td>\n",
       "      <td>0.0</td>\n",
       "      <td>0.0</td>\n",
       "      <td>0.0</td>\n",
       "      <td>0.0</td>\n",
       "      <td>0.0</td>\n",
       "      <td>0.0</td>\n",
       "      <td>0.0</td>\n",
       "      <td>0.0</td>\n",
       "    </tr>\n",
       "    <tr>\n",
       "      <th>1247485</th>\n",
       "      <td>0.764706</td>\n",
       "      <td>0.0</td>\n",
       "      <td>0.0</td>\n",
       "      <td>0.0</td>\n",
       "      <td>0.0</td>\n",
       "      <td>0.0</td>\n",
       "      <td>0.0</td>\n",
       "      <td>0.0</td>\n",
       "      <td>0.0</td>\n",
       "      <td>0.0</td>\n",
       "      <td>...</td>\n",
       "      <td>0.0</td>\n",
       "      <td>0.0</td>\n",
       "      <td>0.0</td>\n",
       "      <td>0.0</td>\n",
       "      <td>0.0</td>\n",
       "      <td>0.0</td>\n",
       "      <td>0.0</td>\n",
       "      <td>0.0</td>\n",
       "      <td>0.0</td>\n",
       "      <td>0.0</td>\n",
       "    </tr>\n",
       "  </tbody>\n",
       "</table>\n",
       "<p>1247486 rows × 303 columns</p>\n",
       "</div>"
      ],
      "text/plain": [
       "              0    1    2    3    4    5    6    7    8    9    ...  293  294  \\\n",
       "0       -0.137255  0.0  0.0  0.0  0.0  0.0  0.0  0.0  0.0  0.0  ...  0.0  0.0   \n",
       "1        0.509804  0.0  0.0  0.0  0.0  0.0  0.0  0.0  0.0  0.0  ...  0.0  0.0   \n",
       "2        1.039216  0.0  0.0  0.0  0.0  0.0  0.0  0.0  0.0  0.0  ...  0.0  0.0   \n",
       "3       -0.274510  0.0  0.0  0.0  0.0  0.0  0.0  0.0  0.0  0.0  ...  0.0  0.0   \n",
       "4       -0.254902  0.0  0.0  0.0  0.0  0.0  0.0  0.0  0.0  0.0  ...  0.0  0.0   \n",
       "...           ...  ...  ...  ...  ...  ...  ...  ...  ...  ...  ...  ...  ...   \n",
       "1247481  0.196078  0.0  0.0  0.0  0.0  0.0  0.0  0.0  0.0  0.0  ...  0.0  0.0   \n",
       "1247482 -0.176471  0.0  0.0  0.0  0.0  0.0  0.0  0.0  0.0  0.0  ...  0.0  0.0   \n",
       "1247483 -0.215686  0.0  0.0  0.0  0.0  0.0  0.0  0.0  0.0  0.0  ...  0.0  0.0   \n",
       "1247484  0.313725  0.0  0.0  0.0  0.0  0.0  0.0  0.0  0.0  0.0  ...  0.0  0.0   \n",
       "1247485  0.764706  0.0  0.0  0.0  0.0  0.0  0.0  0.0  0.0  0.0  ...  0.0  0.0   \n",
       "\n",
       "         295  296  297  298  299  300  301  302  \n",
       "0        0.0  0.0  0.0  0.0  0.0  0.0  0.0  0.0  \n",
       "1        0.0  0.0  0.0  0.0  0.0  0.0  0.0  0.0  \n",
       "2        0.0  0.0  0.0  0.0  0.0  0.0  0.0  0.0  \n",
       "3        0.0  0.0  0.0  0.0  0.0  0.0  0.0  0.0  \n",
       "4        0.0  0.0  0.0  0.0  0.0  0.0  0.0  0.0  \n",
       "...      ...  ...  ...  ...  ...  ...  ...  ...  \n",
       "1247481  0.0  0.0  0.0  0.0  0.0  0.0  0.0  0.0  \n",
       "1247482  0.0  0.0  0.0  0.0  0.0  0.0  0.0  0.0  \n",
       "1247483  0.0  0.0  0.0  0.0  0.0  0.0  0.0  0.0  \n",
       "1247484  0.0  0.0  0.0  0.0  0.0  0.0  0.0  0.0  \n",
       "1247485  0.0  0.0  0.0  0.0  0.0  0.0  0.0  0.0  \n",
       "\n",
       "[1247486 rows x 303 columns]"
      ]
     },
     "execution_count": 28,
     "metadata": {},
     "output_type": "execute_result"
    }
   ],
   "source": [
    "# Normalitzem el df\n",
    "mlr_std = pd.DataFrame(scaler.fit_transform(mlr_expanded.values))\n",
    "mlr_std"
   ]
  },
  {
   "cell_type": "code",
   "execution_count": 29,
   "id": "c908854f",
   "metadata": {},
   "outputs": [],
   "source": [
    "# Creem els 4 grups (2X,2y)\n",
    "X_lrm =mlr_std\n",
    "y_lrm=supervisator_std\n",
    "\n",
    "X_train, X_test, y_train, y_test = train_test_split (X_lrm, y_lrm, test_size= 0.3, random_state=111)"
   ]
  },
  {
   "cell_type": "code",
   "execution_count": 30,
   "id": "0ea4c033",
   "metadata": {},
   "outputs": [
    {
     "data": {
      "text/plain": [
       "array([[-0.03406787],\n",
       "       [-0.5025003 ],\n",
       "       [ 0.35984659],\n",
       "       ...,\n",
       "       [ 0.06649375],\n",
       "       [ 0.23618865],\n",
       "       [-0.39358997]])"
      ]
     },
     "execution_count": 30,
     "metadata": {},
     "output_type": "execute_result"
    }
   ],
   "source": [
    "model_lrm = LinearRegression()\n",
    "model_lrm.fit(X_train, y_train)\n",
    "\n",
    "# Prediccions\n",
    "test_predictions = model_lrm.predict(X_test)\n",
    "test_predictions"
   ]
  },
  {
   "cell_type": "code",
   "execution_count": 31,
   "id": "c1a2b7ea",
   "metadata": {},
   "outputs": [
    {
     "name": "stdout",
     "output_type": "stream",
     "text": [
      "R^2 value:  0.9050801227166257\n",
      "Coeficient Factor:  [[ 9.25739146e-01 -1.76261878e+09 -1.76261878e+09 -1.76261878e+09\n",
      "  -1.76261878e+09 -1.76261878e+09 -1.76261878e+09 -1.76261878e+09\n",
      "  -1.76261878e+09 -1.76261878e+09 -1.76261878e+09 -1.76261878e+09\n",
      "  -1.76261878e+09 -1.76261878e+09 -1.76261878e+09 -1.76261878e+09\n",
      "  -1.76261878e+09 -1.76261878e+09 -1.76261878e+09 -1.76261878e+09\n",
      "  -1.76261878e+09 -1.76261878e+09 -1.76261878e+09 -1.76261878e+09\n",
      "  -1.76261878e+09 -1.76261878e+09 -1.76261878e+09 -1.76261878e+09\n",
      "  -1.76261878e+09 -1.76261878e+09 -1.76261878e+09 -1.76261878e+09\n",
      "  -1.76261878e+09 -1.76261878e+09 -1.76261878e+09 -1.76261878e+09\n",
      "  -1.76261878e+09 -1.76261878e+09 -1.76261878e+09 -1.76261878e+09\n",
      "  -1.76261878e+09 -1.76261878e+09 -1.76261878e+09 -1.76261878e+09\n",
      "  -1.76261878e+09 -1.76261878e+09 -1.76261878e+09 -1.76261878e+09\n",
      "  -1.76261878e+09 -1.76261878e+09 -1.76261878e+09 -1.76261878e+09\n",
      "  -1.76261878e+09 -1.76261878e+09 -1.76261878e+09 -1.76261878e+09\n",
      "  -1.76261878e+09 -1.76261878e+09 -1.76261878e+09 -1.76261878e+09\n",
      "  -1.76261878e+09 -1.76261878e+09 -1.76261878e+09 -1.76261878e+09\n",
      "  -1.76261878e+09 -1.76261878e+09 -1.76261878e+09 -1.76261878e+09\n",
      "  -1.76261878e+09 -1.76261878e+09 -1.76261878e+09 -1.76261878e+09\n",
      "  -1.76261878e+09 -1.76261878e+09 -1.76261878e+09 -1.76261878e+09\n",
      "  -1.76261878e+09 -1.76261878e+09 -1.76261878e+09 -1.76261878e+09\n",
      "  -1.76261878e+09 -1.76261878e+09 -1.76261878e+09 -1.76261878e+09\n",
      "  -1.76261878e+09 -1.76261878e+09 -1.76261878e+09 -1.76261878e+09\n",
      "  -1.76261878e+09 -1.76261878e+09 -1.76261878e+09 -1.76261878e+09\n",
      "  -1.76261878e+09 -1.76261878e+09 -1.76261878e+09 -1.76261878e+09\n",
      "  -1.76261878e+09 -1.76261878e+09 -1.76261878e+09 -1.76261878e+09\n",
      "  -1.76261878e+09 -1.76261878e+09 -1.76261878e+09 -1.76261878e+09\n",
      "  -1.76261878e+09 -1.76261878e+09 -1.76261878e+09 -1.76261878e+09\n",
      "  -1.76261878e+09 -1.76261878e+09 -1.76261878e+09 -1.76261878e+09\n",
      "  -1.76261878e+09 -1.76261878e+09 -1.76261878e+09 -1.76261878e+09\n",
      "  -1.76261878e+09 -1.76261878e+09 -1.76261878e+09 -1.76261878e+09\n",
      "  -1.76261878e+09 -1.76261878e+09 -1.76261878e+09 -1.76261878e+09\n",
      "  -1.76261878e+09 -1.76261878e+09 -1.76261878e+09 -1.76261878e+09\n",
      "  -1.76261878e+09 -1.76261878e+09 -1.76261878e+09 -1.76261878e+09\n",
      "  -1.76261878e+09 -1.76261878e+09 -1.76261878e+09 -1.76261878e+09\n",
      "  -1.76261878e+09 -1.76261878e+09 -1.76261878e+09 -1.76261878e+09\n",
      "  -1.76261878e+09 -1.76261878e+09 -1.76261878e+09 -1.76261878e+09\n",
      "  -1.76261878e+09 -1.76261878e+09 -1.76261878e+09 -1.76261878e+09\n",
      "  -1.76261878e+09 -1.76261878e+09 -1.76261878e+09 -1.76261878e+09\n",
      "  -1.76261878e+09 -1.76261878e+09 -1.76261878e+09 -1.76261878e+09\n",
      "  -1.76261878e+09 -1.76261878e+09 -1.76261878e+09 -1.76261878e+09\n",
      "  -1.76261878e+09 -1.76261878e+09 -1.76261878e+09 -1.76261878e+09\n",
      "  -1.76261878e+09 -1.76261878e+09 -1.76261878e+09 -1.76261878e+09\n",
      "  -1.76261878e+09 -1.76261878e+09 -1.76261878e+09 -1.76261878e+09\n",
      "  -1.76261878e+09 -1.76261878e+09 -1.76261878e+09 -1.76261878e+09\n",
      "  -1.76261878e+09 -1.76261878e+09 -1.76261878e+09 -1.76261878e+09\n",
      "  -1.76261878e+09 -1.76261878e+09 -1.76261878e+09 -1.76261878e+09\n",
      "  -1.76261878e+09 -1.76261878e+09 -1.76261878e+09 -1.76261878e+09\n",
      "  -1.76261878e+09 -1.76261878e+09 -1.76261878e+09 -1.76261878e+09\n",
      "  -1.76261878e+09 -1.76261878e+09 -1.76261878e+09 -1.76261878e+09\n",
      "  -1.76261878e+09 -1.76261878e+09 -1.76261878e+09 -1.76261878e+09\n",
      "  -1.76261878e+09 -1.76261878e+09 -1.76261878e+09 -1.76261878e+09\n",
      "  -1.76261878e+09 -1.76261878e+09 -1.76261878e+09 -1.76261878e+09\n",
      "  -1.76261878e+09 -1.76261878e+09 -1.76261878e+09 -1.76261878e+09\n",
      "  -1.76261878e+09 -1.76261878e+09 -1.76261878e+09 -1.76261878e+09\n",
      "  -1.76261878e+09 -1.76261878e+09 -1.76261878e+09 -1.76261878e+09\n",
      "  -1.76261878e+09 -1.76261878e+09 -1.76261878e+09 -1.76261878e+09\n",
      "  -1.76261878e+09 -1.76261878e+09 -1.76261878e+09 -1.76261878e+09\n",
      "  -1.76261878e+09 -1.76261878e+09 -1.76261878e+09 -1.76261878e+09\n",
      "  -1.76261878e+09 -1.76261878e+09 -1.76261878e+09 -1.76261878e+09\n",
      "  -1.76261878e+09 -1.76261878e+09 -1.76261878e+09 -1.76261878e+09\n",
      "  -1.76261878e+09 -1.76261878e+09 -1.76261878e+09 -1.76261878e+09\n",
      "  -1.76261878e+09 -1.76261878e+09 -1.76261878e+09 -1.76261878e+09\n",
      "  -1.76261878e+09 -1.76261878e+09 -1.76261878e+09 -1.76261878e+09\n",
      "  -1.76261878e+09 -1.76261878e+09 -1.76261878e+09 -1.76261878e+09\n",
      "  -1.76261878e+09 -1.76261878e+09 -1.76261878e+09 -1.76261878e+09\n",
      "  -1.76261878e+09 -1.76261878e+09 -1.76261878e+09 -1.76261878e+09\n",
      "  -1.76261878e+09 -1.76261878e+09 -1.76261878e+09 -1.76261878e+09\n",
      "  -1.76261878e+09 -1.76261878e+09 -1.76261878e+09 -1.76261878e+09\n",
      "  -1.76261878e+09 -1.76261878e+09 -1.76261878e+09 -1.76261878e+09\n",
      "  -1.76261878e+09 -1.76261878e+09 -1.76261878e+09 -1.76261878e+09\n",
      "  -1.76261878e+09 -1.76261878e+09 -1.76261878e+09 -1.76261878e+09\n",
      "  -1.76261878e+09 -1.76261878e+09 -1.76261878e+09 -1.76261878e+09\n",
      "  -1.76261878e+09 -1.76261878e+09 -1.76261878e+09 -1.76261878e+09\n",
      "  -1.76261878e+09 -1.76261878e+09 -1.76261878e+09 -1.76261878e+09\n",
      "  -1.76261878e+09 -1.76261878e+09 -1.76261878e+09 -1.76261878e+09\n",
      "  -1.76261878e+09 -1.76261878e+09 -1.76261878e+09]]\n",
      "Intercept: [1.76261878e+09]\n"
     ]
    }
   ],
   "source": [
    "# Level of accuracy LRM\n",
    "print(\"R^2 value: \",model_lrm.score(X_lrm,y_lrm))\n",
    "print(\"Coeficient Factor: \", model_lrm.coef_)\n",
    "print (\"Intercept:\", model_lrm.intercept_)"
   ]
  },
  {
   "cell_type": "markdown",
   "id": "18e2da7b",
   "metadata": {},
   "source": [
    "Exercici 2\n",
    "Compara’ls en base al MSE i al R2."
   ]
  },
  {
   "cell_type": "markdown",
   "id": "26269612",
   "metadata": {},
   "source": [
    "#### Si comparem  entre la regressió lineal simple i la regressió multiple, veiem que el nivell d'acuracy r^2 serà molt més acurat en les prediccions si utilitzem regressió multiple."
   ]
  },
  {
   "cell_type": "code",
   "execution_count": 32,
   "id": "795f09b4",
   "metadata": {},
   "outputs": [
    {
     "name": "stdout",
     "output_type": "stream",
     "text": [
      "R^2 value:  0.00014121454871340866\n",
      "Coeficient Factor:  [[0.02789959]]\n",
      "Intercept: [0.38219299]\n"
     ]
    }
   ],
   "source": [
    "# Level of accuracy LRS\n",
    "print(\"R^2 value: \",model_lrs.score(X,y))\n",
    "print(\"Coeficient Factor: \", model_lrs.coef_)\n",
    "print (\"Intercept:\", model_lrs.intercept_)"
   ]
  },
  {
   "cell_type": "markdown",
   "id": "0153e3f6",
   "metadata": {},
   "source": [
    "#### 3. Regressió Logistica"
   ]
  },
  {
   "cell_type": "code",
   "execution_count": 33,
   "id": "2d7bb60a",
   "metadata": {},
   "outputs": [
    {
     "data": {
      "text/plain": [
       "0         -14.0\n",
       "1           2.0\n",
       "2          14.0\n",
       "4          34.0\n",
       "5          11.0\n",
       "           ... \n",
       "7009710    25.0\n",
       "7009717    75.0\n",
       "7009718    99.0\n",
       "7009726     9.0\n",
       "7009727    -5.0\n",
       "Name: ArrDelay, Length: 1936758, dtype: float64"
      ]
     },
     "execution_count": 33,
     "metadata": {},
     "output_type": "execute_result"
    }
   ],
   "source": [
    "df['ArrDelay']"
   ]
  },
  {
   "cell_type": "markdown",
   "id": "85b6b395",
   "metadata": {},
   "source": [
    "#### Crearem una nova columna tipus binary per classificar el arrDelay:\n",
    "\n",
    "- False. Vols amb un arrDelay 0 (no delay), negatiu (van arribar abans de temps) o amb un delay de cortesia màxim de 5min.\n",
    "- True. Vols amb un arrDelay de mes de 5 minuts."
   ]
  },
  {
   "cell_type": "code",
   "execution_count": 34,
   "id": "9683f550",
   "metadata": {},
   "outputs": [],
   "source": [
    "df_log = df\n",
    "\n",
    "df_log['BinaryDelay']= df_log['ArrDelay'].apply(lambda x: True if (x > 5) else False) "
   ]
  },
  {
   "cell_type": "code",
   "execution_count": 35,
   "id": "754ee269",
   "metadata": {},
   "outputs": [
    {
     "data": {
      "text/plain": [
       "count     1936758\n",
       "unique          2\n",
       "top          True\n",
       "freq      1564823\n",
       "Name: BinaryDelay, dtype: object"
      ]
     },
     "execution_count": 35,
     "metadata": {},
     "output_type": "execute_result"
    }
   ],
   "source": [
    "df_log['BinaryDelay'].describe()"
   ]
  },
  {
   "cell_type": "code",
   "execution_count": 36,
   "id": "c2321359",
   "metadata": {},
   "outputs": [],
   "source": [
    "# Eliminem els NaNs detectats previament\n",
    "df_log = df_log.dropna(subset=[\"ArrTime\",\"TaxiIn\",\"TaxiOut\"])"
   ]
  },
  {
   "cell_type": "code",
   "execution_count": 37,
   "id": "d26c64f0",
   "metadata": {},
   "outputs": [
    {
     "data": {
      "text/plain": [
       "0    False\n",
       "1    False\n",
       "2     True\n",
       "4     True\n",
       "5     True\n",
       "Name: BinaryDelay, dtype: bool"
      ]
     },
     "execution_count": 37,
     "metadata": {},
     "output_type": "execute_result"
    }
   ],
   "source": [
    "df_log['BinaryDelay'].head()"
   ]
  },
  {
   "cell_type": "code",
   "execution_count": 38,
   "id": "b94b73a3",
   "metadata": {},
   "outputs": [
    {
     "data": {
      "text/plain": [
       "count     1929648\n",
       "unique          2\n",
       "top          True\n",
       "freq      1564823\n",
       "Name: BinaryDelay, dtype: object"
      ]
     },
     "execution_count": 38,
     "metadata": {},
     "output_type": "execute_result"
    }
   ],
   "source": [
    "df_log['BinaryDelay'].describe()"
   ]
  },
  {
   "cell_type": "code",
   "execution_count": 39,
   "id": "267a0673",
   "metadata": {},
   "outputs": [
    {
     "data": {
      "text/plain": [
       "0          False\n",
       "1          False\n",
       "2           True\n",
       "4           True\n",
       "5           True\n",
       "           ...  \n",
       "7009710     True\n",
       "7009717     True\n",
       "7009718     True\n",
       "7009726     True\n",
       "7009727    False\n",
       "Name: BinaryDelay, Length: 1929648, dtype: bool"
      ]
     },
     "execution_count": 39,
     "metadata": {},
     "output_type": "execute_result"
    }
   ],
   "source": [
    "df_log['BinaryDelay']"
   ]
  },
  {
   "cell_type": "code",
   "execution_count": 40,
   "id": "167f2aa0",
   "metadata": {},
   "outputs": [],
   "source": [
    "from sklearn.linear_model import LogisticRegression"
   ]
  },
  {
   "cell_type": "code",
   "execution_count": 41,
   "id": "2ef9dd6e",
   "metadata": {},
   "outputs": [],
   "source": [
    "# Instanciem el model\n",
    "logisticRegr = LogisticRegression()"
   ]
  },
  {
   "cell_type": "code",
   "execution_count": 43,
   "id": "bd2907c5",
   "metadata": {},
   "outputs": [],
   "source": [
    "## ABANS DE FER EL CONFUSION MATRIX:\n",
    "\n",
    "# Fem sample de 10000 per no sobrecarregar la memoria\n",
    "# i mirar que el valor estigui balancejat.\n",
    "\n",
    "df_log = df_log.sample(n = 10000)"
   ]
  },
  {
   "cell_type": "code",
   "execution_count": 44,
   "id": "085ba385",
   "metadata": {},
   "outputs": [
    {
     "data": {
      "text/html": [
       "<div>\n",
       "<style scoped>\n",
       "    .dataframe tbody tr th:only-of-type {\n",
       "        vertical-align: middle;\n",
       "    }\n",
       "\n",
       "    .dataframe tbody tr th {\n",
       "        vertical-align: top;\n",
       "    }\n",
       "\n",
       "    .dataframe thead th {\n",
       "        text-align: right;\n",
       "    }\n",
       "</style>\n",
       "<table border=\"1\" class=\"dataframe\">\n",
       "  <thead>\n",
       "    <tr style=\"text-align: right;\">\n",
       "      <th></th>\n",
       "      <th>BinaryDelay</th>\n",
       "    </tr>\n",
       "  </thead>\n",
       "  <tbody>\n",
       "    <tr>\n",
       "      <th>4590668</th>\n",
       "      <td>True</td>\n",
       "    </tr>\n",
       "    <tr>\n",
       "      <th>3914950</th>\n",
       "      <td>False</td>\n",
       "    </tr>\n",
       "    <tr>\n",
       "      <th>2800796</th>\n",
       "      <td>True</td>\n",
       "    </tr>\n",
       "    <tr>\n",
       "      <th>1790558</th>\n",
       "      <td>True</td>\n",
       "    </tr>\n",
       "    <tr>\n",
       "      <th>2106196</th>\n",
       "      <td>True</td>\n",
       "    </tr>\n",
       "  </tbody>\n",
       "</table>\n",
       "</div>"
      ],
      "text/plain": [
       "         BinaryDelay\n",
       "4590668         True\n",
       "3914950        False\n",
       "2800796         True\n",
       "1790558         True\n",
       "2106196         True"
      ]
     },
     "execution_count": 44,
     "metadata": {},
     "output_type": "execute_result"
    }
   ],
   "source": [
    "log_df_y = df_log[['BinaryDelay']]\n",
    "log_df_y.head()"
   ]
  },
  {
   "cell_type": "code",
   "execution_count": 45,
   "id": "2a0dc62c",
   "metadata": {},
   "outputs": [],
   "source": [
    "# Seleccionem les features\n",
    "feature_cols = ['DayofMonth','DayOfWeek','DepTime','CRSDepTime','ArrTime','CRSArrTime','DepDelay']\n",
    "\n",
    "# OK log_predictor = df_log[feature_cols]\n",
    "log_predictor = df_log[feature_cols]"
   ]
  },
  {
   "cell_type": "code",
   "execution_count": 46,
   "id": "04817141",
   "metadata": {},
   "outputs": [
    {
     "data": {
      "text/plain": [
       "Index(['DayofMonth', 'DayOfWeek', 'DepTime', 'CRSDepTime', 'ArrTime',\n",
       "       'CRSArrTime', 'DepDelay'],\n",
       "      dtype='object')"
      ]
     },
     "execution_count": 46,
     "metadata": {},
     "output_type": "execute_result"
    }
   ],
   "source": [
    "log_predictor.columns"
   ]
  },
  {
   "cell_type": "code",
   "execution_count": 47,
   "id": "850c3522",
   "metadata": {},
   "outputs": [
    {
     "data": {
      "text/plain": [
       "DayofMonth      int64\n",
       "DayOfWeek       int64\n",
       "DepTime       float64\n",
       "CRSDepTime      int64\n",
       "ArrTime       float64\n",
       "CRSArrTime      int64\n",
       "DepDelay      float64\n",
       "dtype: object"
      ]
     },
     "execution_count": 47,
     "metadata": {},
     "output_type": "execute_result"
    }
   ],
   "source": [
    "log_predictor.dtypes"
   ]
  },
  {
   "cell_type": "code",
   "execution_count": 48,
   "id": "6005d637",
   "metadata": {},
   "outputs": [],
   "source": [
    "log_supervisator = log_df_y"
   ]
  },
  {
   "cell_type": "code",
   "execution_count": 49,
   "id": "e24f40ba",
   "metadata": {},
   "outputs": [
    {
     "data": {
      "text/plain": [
       "BinaryDelay    bool\n",
       "dtype: object"
      ]
     },
     "execution_count": 49,
     "metadata": {},
     "output_type": "execute_result"
    }
   ],
   "source": [
    "log_supervisator.dtypes"
   ]
  },
  {
   "cell_type": "markdown",
   "id": "4c79449f",
   "metadata": {},
   "source": [
    "Exercici 3\n",
    "Entrena’ls utilitzant els diferents paràmetres que admeten."
   ]
  },
  {
   "cell_type": "code",
   "execution_count": 50,
   "id": "f812f9b0",
   "metadata": {},
   "outputs": [],
   "source": [
    "# Creem els 4 grups (2X,2y)\n",
    "X_log=log_predictor #error al pasarli el log_predictor\n",
    "y_log=log_supervisator\n",
    "\n",
    "X_train, X_test, y_train, y_test = train_test_split (X_log, y_log, test_size= 0.3, random_state=111)\n"
   ]
  },
  {
   "cell_type": "code",
   "execution_count": 51,
   "id": "638b637d",
   "metadata": {},
   "outputs": [
    {
     "name": "stderr",
     "output_type": "stream",
     "text": [
      "/Users/ecanals/opt/anaconda3/lib/python3.8/site-packages/sklearn/utils/validation.py:72: DataConversionWarning: A column-vector y was passed when a 1d array was expected. Please change the shape of y to (n_samples, ), for example using ravel().\n",
      "  return f(**kwargs)\n",
      "/Users/ecanals/opt/anaconda3/lib/python3.8/site-packages/sklearn/linear_model/_logistic.py:762: ConvergenceWarning: lbfgs failed to converge (status=1):\n",
      "STOP: TOTAL NO. of ITERATIONS REACHED LIMIT.\n",
      "\n",
      "Increase the number of iterations (max_iter) or scale the data as shown in:\n",
      "    https://scikit-learn.org/stable/modules/preprocessing.html\n",
      "Please also refer to the documentation for alternative solver options:\n",
      "    https://scikit-learn.org/stable/modules/linear_model.html#logistic-regression\n",
      "  n_iter_i = _check_optimize_result(\n"
     ]
    },
    {
     "data": {
      "text/plain": [
       "LogisticRegression()"
      ]
     },
     "execution_count": 51,
     "metadata": {},
     "output_type": "execute_result"
    }
   ],
   "source": [
    "logisticRegr.fit(X_train, y_train)"
   ]
  },
  {
   "cell_type": "code",
   "execution_count": 52,
   "id": "c522f50d",
   "metadata": {},
   "outputs": [
    {
     "data": {
      "text/plain": [
       "array([[ 225,  328],\n",
       "       [ 160, 2287]])"
      ]
     },
     "execution_count": 52,
     "metadata": {},
     "output_type": "execute_result"
    }
   ],
   "source": [
    "# Evaluem el model amb confusion matrix\n",
    "y_pred=logisticRegr.predict(X_test)\n",
    "\n",
    "# import the metrics class\n",
    "from sklearn import metrics\n",
    "cnf_matrix = metrics.confusion_matrix(y_test, y_pred)\n",
    "cnf_matrix"
   ]
  },
  {
   "cell_type": "code",
   "execution_count": 53,
   "id": "16ed3c8a",
   "metadata": {},
   "outputs": [
    {
     "data": {
      "text/plain": [
       "Text(0.5, 257.44, 'Predicted label')"
      ]
     },
     "execution_count": 53,
     "metadata": {},
     "output_type": "execute_result"
    },
    {
     "data": {
      "image/png": "[encoded data removed]",
      "text/plain": [
       "<Figure size 432x288 with 2 Axes>"
      ]
     },
     "metadata": {
      "needs_background": "light"
     },
     "output_type": "display_data"
    }
   ],
   "source": [
    "# Visualització del Confusion Matrix\n",
    "class_names=[0,1] # name  of classes\n",
    "fig, ax = plt.subplots()\n",
    "tick_marks = np.arange(len(class_names))\n",
    "plt.xticks(tick_marks, class_names)\n",
    "plt.yticks(tick_marks, class_names)\n",
    "# create heatmap\n",
    "sns.heatmap(pd.DataFrame(cnf_matrix), annot=True, cmap=\"YlGnBu\" ,fmt='g')\n",
    "ax.xaxis.set_label_position(\"top\")\n",
    "plt.tight_layout()\n",
    "plt.title('Confusion matrix', y=1.1)\n",
    "plt.ylabel('Actual label')\n",
    "plt.xlabel('Predicted label')"
   ]
  },
  {
   "cell_type": "code",
   "execution_count": 54,
   "id": "d428f9cb",
   "metadata": {},
   "outputs": [
    {
     "name": "stdout",
     "output_type": "stream",
     "text": [
      "R^2 value:  0.8308\n",
      "Coeficient Factor:  [[-1.99410428e-02 -3.44415495e-02  3.79103461e-05 -1.51876170e-04\n",
      "   6.10026870e-05 -4.50950328e-04  1.52240654e-01]]\n",
      "Intercept: [-0.06839974]\n"
     ]
    }
   ],
   "source": [
    "# Level of accuracy LogReg\n",
    "print(\"R^2 value: \",logisticRegr.score(X_log,y_log))\n",
    "print(\"Coeficient Factor: \", logisticRegr.coef_)\n",
    "print (\"Intercept:\", logisticRegr.intercept_)"
   ]
  },
  {
   "cell_type": "markdown",
   "id": "fbf914b2",
   "metadata": {},
   "source": [
    "Exercici 4\n",
    "Compara el seu rendiment utilitzant l’aproximació traint/test o utilitzant totes les dades (validació interna)."
   ]
  },
  {
   "cell_type": "code",
   "execution_count": 55,
   "id": "e4821164",
   "metadata": {},
   "outputs": [],
   "source": [
    "# Utilitzarem totes les dades numeriques del dataframe\n",
    "# Seleccionem les features\n",
    "feature_cols = ['Year','Month','DayofMonth','DayOfWeek','DepTime','CRSDepTime','ArrTime','CRSArrTime','DepDelay','ActualElapsedTime','CRSElapsedTime','AirTime','Distance','BinaryDelay']\n",
    "\n",
    "# OK log_predictor = df_log[feature_cols]\n",
    "log_predictor_all = df_log[feature_cols]\n",
    "\n",
    "log_predictor_all = log_predictor_all.dropna()\n",
    "log_supervisator_all = log_predictor_all[['BinaryDelay']]"
   ]
  },
  {
   "cell_type": "code",
   "execution_count": 56,
   "id": "617777a4",
   "metadata": {},
   "outputs": [],
   "source": [
    "# Creem els 4 grups (2X,2y)\n",
    "X_log_all=log_predictor_all\n",
    "y_log_all=log_supervisator_all\n",
    "\n",
    "X_train, X_test, y_train, y_test = train_test_split (X_log_all, y_log_all, test_size= 0.3, random_state=111)"
   ]
  },
  {
   "cell_type": "code",
   "execution_count": 57,
   "id": "65225c90",
   "metadata": {},
   "outputs": [],
   "source": [
    "logisticRegr_all = LogisticRegression()"
   ]
  },
  {
   "cell_type": "code",
   "execution_count": 58,
   "id": "cdde39e9",
   "metadata": {},
   "outputs": [
    {
     "name": "stderr",
     "output_type": "stream",
     "text": [
      "/Users/ecanals/opt/anaconda3/lib/python3.8/site-packages/sklearn/utils/validation.py:72: DataConversionWarning: A column-vector y was passed when a 1d array was expected. Please change the shape of y to (n_samples, ), for example using ravel().\n",
      "  return f(**kwargs)\n",
      "/Users/ecanals/opt/anaconda3/lib/python3.8/site-packages/sklearn/linear_model/_logistic.py:762: ConvergenceWarning: lbfgs failed to converge (status=1):\n",
      "STOP: TOTAL NO. of ITERATIONS REACHED LIMIT.\n",
      "\n",
      "Increase the number of iterations (max_iter) or scale the data as shown in:\n",
      "    https://scikit-learn.org/stable/modules/preprocessing.html\n",
      "Please also refer to the documentation for alternative solver options:\n",
      "    https://scikit-learn.org/stable/modules/linear_model.html#logistic-regression\n",
      "  n_iter_i = _check_optimize_result(\n"
     ]
    },
    {
     "data": {
      "text/plain": [
       "LogisticRegression()"
      ]
     },
     "execution_count": 58,
     "metadata": {},
     "output_type": "execute_result"
    }
   ],
   "source": [
    "logisticRegr_all.fit(X_train, y_train)"
   ]
  },
  {
   "cell_type": "code",
   "execution_count": 59,
   "id": "2b6c9e00",
   "metadata": {},
   "outputs": [
    {
     "data": {
      "text/plain": [
       "array([[ 430,  105],\n",
       "       [ 116, 2347]])"
      ]
     },
     "execution_count": 59,
     "metadata": {},
     "output_type": "execute_result"
    }
   ],
   "source": [
    "# Reevaluem el model amb confusion matrix\n",
    "y_pred=logisticRegr_all.predict(X_test)\n",
    "\n",
    "# import the metrics class\n",
    "from sklearn import metrics\n",
    "cnf_matrix = metrics.confusion_matrix(y_test, y_pred)\n",
    "cnf_matrix"
   ]
  },
  {
   "cell_type": "code",
   "execution_count": 60,
   "id": "f243e4c3",
   "metadata": {},
   "outputs": [
    {
     "data": {
      "text/plain": [
       "Text(0.5, 257.44, 'Predicted label')"
      ]
     },
     "execution_count": 60,
     "metadata": {},
     "output_type": "execute_result"
    },
    {
     "data": {
      "image/png": "[encoded data removed]",
      "text/plain": [
       "<Figure size 432x288 with 2 Axes>"
      ]
     },
     "metadata": {
      "needs_background": "light"
     },
     "output_type": "display_data"
    }
   ],
   "source": [
    "# Visualització del Confusion Matrix\n",
    "class_names=[0,1] # name  of classes\n",
    "fig, ax = plt.subplots()\n",
    "tick_marks = np.arange(len(class_names))\n",
    "plt.xticks(tick_marks, class_names)\n",
    "plt.yticks(tick_marks, class_names)\n",
    "# create heatmap\n",
    "sns.heatmap(pd.DataFrame(cnf_matrix), annot=True, cmap=\"YlGnBu\" ,fmt='g')\n",
    "ax.xaxis.set_label_position(\"top\")\n",
    "plt.tight_layout()\n",
    "plt.title('Confusion matrix', y=1.1)\n",
    "plt.ylabel('Actual label')\n",
    "plt.xlabel('Predicted label')"
   ]
  },
  {
   "cell_type": "code",
   "execution_count": 61,
   "id": "05d0e4f4",
   "metadata": {},
   "outputs": [
    {
     "name": "stdout",
     "output_type": "stream",
     "text": [
      "R^2 value:  0.9275492844991494\n",
      "Coeficient Factor:  [[-0.00270994 -0.00983157 -0.00525957 -0.00056147 -0.00166512  0.00282922\n",
      "   0.00056776 -0.00127036  0.50298899  0.1850698  -0.17743517  0.03851015\n",
      "  -0.00614469  0.02569102]]\n",
      "Intercept: [-1.34958456e-06]\n"
     ]
    }
   ],
   "source": [
    "# Level of accuracy LogRegAllColumns\n",
    "print(\"R^2 value: \",logisticRegr_all.score(X_log_all,y_log_all))\n",
    "print(\"Coeficient Factor: \", logisticRegr_all.coef_)\n",
    "print (\"Intercept:\", logisticRegr_all.intercept_)"
   ]
  },
  {
   "cell_type": "markdown",
   "id": "71d89e04",
   "metadata": {},
   "source": [
    "#### Veiem clarament que utilitzant totes les columnes millora el R^2"
   ]
  },
  {
   "cell_type": "markdown",
   "id": "5232615e",
   "metadata": {},
   "source": [
    "Exercici 5\n",
    "Realitza algun procés d’enginyeria de variables per millorar-ne la predicció"
   ]
  },
  {
   "cell_type": "markdown",
   "id": "66432052",
   "metadata": {},
   "source": [
    "#### Nota. Per poder utilitzar el Model de Regressió Logistica, ja s'ha aplicat anteriorment una feature engineering per convertir el  ArrDelay en valor de clasificació."
   ]
  },
  {
   "cell_type": "markdown",
   "id": "2bcd1c55",
   "metadata": {},
   "source": [
    "Exercici 6\n",
    "No utilitzis la variable DepDelay a l’hora de fer prediccions."
   ]
  },
  {
   "cell_type": "code",
   "execution_count": 62,
   "id": "e77f051a",
   "metadata": {},
   "outputs": [],
   "source": [
    "# Eliminen DepDelay del dataframe\n",
    "log_predictor2 = log_predictor.drop(columns='DepDelay')"
   ]
  },
  {
   "cell_type": "code",
   "execution_count": 63,
   "id": "3a8db19c",
   "metadata": {},
   "outputs": [],
   "source": [
    "# Creem els 4 grups (2X,2y)\n",
    "X_log2=log_predictor2\n",
    "y_log2=log_supervisator\n",
    "\n",
    "X_train, X_test, y_train, y_test = train_test_split (X_log2, y_log2, test_size= 0.3, random_state=111)"
   ]
  },
  {
   "cell_type": "code",
   "execution_count": 64,
   "id": "2ad8e1e1",
   "metadata": {},
   "outputs": [],
   "source": [
    "logisticRegr2 = LogisticRegression()"
   ]
  },
  {
   "cell_type": "code",
   "execution_count": 65,
   "id": "a49578e1",
   "metadata": {},
   "outputs": [
    {
     "name": "stderr",
     "output_type": "stream",
     "text": [
      "/Users/ecanals/opt/anaconda3/lib/python3.8/site-packages/sklearn/utils/validation.py:72: DataConversionWarning: A column-vector y was passed when a 1d array was expected. Please change the shape of y to (n_samples, ), for example using ravel().\n",
      "  return f(**kwargs)\n"
     ]
    },
    {
     "data": {
      "text/plain": [
       "LogisticRegression()"
      ]
     },
     "execution_count": 65,
     "metadata": {},
     "output_type": "execute_result"
    }
   ],
   "source": [
    "logisticRegr2.fit(X_train, y_train)"
   ]
  },
  {
   "cell_type": "code",
   "execution_count": 66,
   "id": "25eda6e2",
   "metadata": {},
   "outputs": [
    {
     "data": {
      "text/plain": [
       "array([[   0,  553],\n",
       "       [  21, 2426]])"
      ]
     },
     "execution_count": 66,
     "metadata": {},
     "output_type": "execute_result"
    }
   ],
   "source": [
    "# Reevaluem el model amb confusion matrix\n",
    "y_pred=logisticRegr2.predict(X_test)\n",
    "\n",
    "# import the metrics class\n",
    "from sklearn import metrics\n",
    "cnf_matrix = metrics.confusion_matrix(y_test, y_pred)\n",
    "cnf_matrix"
   ]
  },
  {
   "cell_type": "code",
   "execution_count": 67,
   "id": "d2b080eb",
   "metadata": {},
   "outputs": [
    {
     "name": "stdout",
     "output_type": "stream",
     "text": [
      "R^2 value:  0.8023\n",
      "Coeficient Factor:  [[ 0.00351785  0.04943873  0.00100827 -0.00032204 -0.00014182  0.00018813]]\n",
      "Intercept: [0.01454315]\n"
     ]
    }
   ],
   "source": [
    "# Level of accuracy LogReg2\n",
    "print(\"R^2 value: \",logisticRegr2.score(X_log2,y_log2))\n",
    "print(\"Coeficient Factor: \", logisticRegr2.coef_)\n",
    "print (\"Intercept:\", logisticRegr2.intercept_)"
   ]
  },
  {
   "cell_type": "markdown",
   "id": "480f3526",
   "metadata": {},
   "source": [
    "#### Veiem clarament com al treure el DepDelay s'aprecia un nivell mes baix de r^2"
   ]
  }
 ],
 "metadata": {
  "kernelspec": {
   "display_name": "Python 3",
   "language": "python",
   "name": "python3"
  },
  "language_info": {
   "codemirror_mode": {
    "name": "ipython",
    "version": 3
   },
   "file_extension": ".py",
   "mimetype": "text/x-python",
   "name": "python",
   "nbconvert_exporter": "python",
   "pygments_lexer": "ipython3",
   "version": "3.8.8"
  }
 },
 "nbformat": 4,
 "nbformat_minor": 5
}
